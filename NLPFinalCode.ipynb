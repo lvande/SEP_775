{
  "nbformat": 4,
  "nbformat_minor": 0,
  "metadata": {
    "colab": {
      "provenance": []
    },
    "kernelspec": {
      "name": "python3",
      "display_name": "Python 3"
    },
    "accelerator": "GPU"
  },
  "cells": [
    {
      "cell_type": "markdown",
      "source": [
        "# Setup\n",
        "\n",
        "Run these blocks each time the file is opened or runtime is restarted\n",
        "\n",
        "Runtime must be restarted each time a different model is run"
      ],
      "metadata": {
        "id": "cLVfZRlCGOrq"
      }
    },
    {
      "cell_type": "code",
      "metadata": {
        "id": "KBkpRgBCBS2_"
      },
      "source": [
        "#import packages\n",
        "!pip install -q gpt-2-simple\n",
        "import gpt_2_simple as gpt2\n",
        "from datetime import datetime\n",
        "from google.colab import files"
      ],
      "execution_count": null,
      "outputs": []
    },
    {
      "cell_type": "code",
      "metadata": {
        "id": "puq4iC6vUAHc",
        "colab": {
          "base_uri": "https://localhost:8080/"
        },
        "outputId": "818657e3-a47a-49cb-9a60-ba3b6ce94e4c"
      },
      "source": [
        "#mount google drive\n",
        "gpt2.mount_gdrive()"
      ],
      "execution_count": null,
      "outputs": [
        {
          "output_type": "stream",
          "name": "stdout",
          "text": [
            "Drive already mounted at /content/drive; to attempt to forcibly remount, call drive.mount(\"/content/drive\", force_remount=True).\n"
          ]
        }
      ]
    },
    {
      "cell_type": "code",
      "metadata": {
        "id": "sUmTooTW3osf",
        "colab": {
          "base_uri": "https://localhost:8080/"
        },
        "outputId": "5d241243-405d-4300-da3a-554747150344"
      },
      "source": [
        "#check gpu specifications\n",
        "!nvidia-smi"
      ],
      "execution_count": null,
      "outputs": [
        {
          "output_type": "stream",
          "name": "stdout",
          "text": [
            "Mon Apr 24 18:45:25 2023       \n",
            "+-----------------------------------------------------------------------------+\n",
            "| NVIDIA-SMI 525.85.12    Driver Version: 525.85.12    CUDA Version: 12.0     |\n",
            "|-------------------------------+----------------------+----------------------+\n",
            "| GPU  Name        Persistence-M| Bus-Id        Disp.A | Volatile Uncorr. ECC |\n",
            "| Fan  Temp  Perf  Pwr:Usage/Cap|         Memory-Usage | GPU-Util  Compute M. |\n",
            "|                               |                      |               MIG M. |\n",
            "|===============================+======================+======================|\n",
            "|   0  Tesla T4            Off  | 00000000:00:04.0 Off |                    0 |\n",
            "| N/A   62C    P8    11W /  70W |      0MiB / 15360MiB |      0%      Default |\n",
            "|                               |                      |                  N/A |\n",
            "+-------------------------------+----------------------+----------------------+\n",
            "                                                                               \n",
            "+-----------------------------------------------------------------------------+\n",
            "| Processes:                                                                  |\n",
            "|  GPU   GI   CI        PID   Type   Process name                  GPU Memory |\n",
            "|        ID   ID                                                   Usage      |\n",
            "|=============================================================================|\n",
            "|  No running processes found                                                 |\n",
            "+-----------------------------------------------------------------------------+\n"
          ]
        }
      ]
    },
    {
      "cell_type": "code",
      "metadata": {
        "id": "P8wSlgXoDPCR",
        "colab": {
          "base_uri": "https://localhost:8080/"
        },
        "outputId": "e5f8726b-4aec-47f6-ce75-d426af091a38"
      },
      "source": [
        "#download model\n",
        "gpt2.download_gpt2(model_name=\"124M\")"
      ],
      "execution_count": null,
      "outputs": [
        {
          "output_type": "stream",
          "name": "stderr",
          "text": [
            "Fetching checkpoint: 1.05Mit [00:00, 186Mit/s]                                                      \n",
            "Fetching encoder.json: 1.05Mit [00:00, 2.63Mit/s]\n",
            "Fetching hparams.json: 1.05Mit [00:00, 252Mit/s]                                                    \n",
            "Fetching model.ckpt.data-00000-of-00001: 498Mit [00:13, 37.9Mit/s]                                  \n",
            "Fetching model.ckpt.index: 1.05Mit [00:00, 151Mit/s]                                                \n",
            "Fetching model.ckpt.meta: 1.05Mit [00:00, 3.77Mit/s]\n",
            "Fetching vocab.bpe: 1.05Mit [00:00, 3.32Mit/s]\n"
          ]
        }
      ]
    },
    {
      "cell_type": "markdown",
      "metadata": {
        "id": "LdpZQXknFNY3"
      },
      "source": [
        "# WOW Quest Generator"
      ]
    },
    {
      "cell_type": "code",
      "metadata": {
        "id": "6OFnPCLADfll",
        "colab": {
          "base_uri": "https://localhost:8080/"
        },
        "outputId": "12b3b655-ab82-4337-fe6f-cf47ecc8b3f0"
      },
      "source": [
        "#load WOW quest dataset\n",
        "!wget jakub.thebias.nl/GPT2_WOWHead_dataset.txt"
      ],
      "execution_count": null,
      "outputs": [
        {
          "output_type": "stream",
          "name": "stdout",
          "text": [
            "--2023-04-03 15:18:38--  http://jakub.thebias.nl/GPT2_WOWHead_dataset.txt\n",
            "Resolving jakub.thebias.nl (jakub.thebias.nl)... 130.89.161.150, 2001:67c:2564:331:6ab5:99ff:fe6d:772c\n",
            "Connecting to jakub.thebias.nl (jakub.thebias.nl)|130.89.161.150|:80... connected.\n",
            "HTTP request sent, awaiting response... 301 Moved Permanently\n",
            "Location: https://jakub.thebias.nl/GPT2_WOWHead_dataset.txt [following]\n",
            "--2023-04-03 15:18:38--  https://jakub.thebias.nl/GPT2_WOWHead_dataset.txt\n",
            "Connecting to jakub.thebias.nl (jakub.thebias.nl)|130.89.161.150|:443... connected.\n",
            "HTTP request sent, awaiting response... 200 OK\n",
            "Length: 11704501 (11M) [text/plain]\n",
            "Saving to: ‘GPT2_WOWHead_dataset.txt’\n",
            "\n",
            "GPT2_WOWHead_datase 100%[===================>]  11.16M  9.06MB/s    in 1.2s    \n",
            "\n",
            "2023-04-03 15:18:40 (9.06 MB/s) - ‘GPT2_WOWHead_dataset.txt’ saved [11704501/11704501]\n",
            "\n"
          ]
        }
      ]
    },
    {
      "cell_type": "markdown",
      "source": [
        "###Fine-Tuning"
      ],
      "metadata": {
        "id": "dn_O1689QFX3"
      }
    },
    {
      "cell_type": "code",
      "metadata": {
        "id": "aeXshJM-Cuaf",
        "colab": {
          "base_uri": "https://localhost:8080/"
        },
        "outputId": "ca5e5e22-c35c-4d06-8ebb-6ff532c3a3d1"
      },
      "source": [
        "#fine-tuning takes about 30min using 128M model on T4GPU\n",
        "sess = gpt2.start_tf_sess()\n",
        "\n",
        "gpt2.finetune(sess,\n",
        "              dataset=\"GPT2_WOWHead_dataset.txt\",\n",
        "              model_name='124M',\n",
        "              steps=1000, #number of steps to run for\n",
        "              restore_from='fresh', #fresh means to train from base gpt, use latest to start from an existing checpoint\n",
        "              run_name='run1', #subfolder within checkpoint to save the model\n",
        "              print_every=10,#Number of steps to print training progress\n",
        "              sample_every=200,#Number of steps to print example output\n",
        "              save_every=500\n",
        "              )"
      ],
      "execution_count": null,
      "outputs": [
        {
          "output_type": "stream",
          "name": "stdout",
          "text": [
            "Loading checkpoint models/124M/model.ckpt\n",
            "Loading dataset...\n"
          ]
        },
        {
          "output_type": "stream",
          "name": "stderr",
          "text": [
            "100%|██████████| 1/1 [00:12<00:00, 12.63s/it]\n"
          ]
        },
        {
          "output_type": "stream",
          "name": "stdout",
          "text": [
            "dataset has 3119753 tokens\n",
            "Training...\n",
            "[10 | 29.79] loss=2.71 avg=2.71\n",
            "[20 | 51.72] loss=2.72 avg=2.71\n",
            "[30 | 74.04] loss=2.23 avg=2.55\n",
            "[40 | 96.78] loss=2.81 avg=2.62\n",
            "[50 | 119.92] loss=2.62 avg=2.62\n",
            "[60 | 143.50] loss=2.63 avg=2.62\n",
            "[70 | 167.31] loss=2.55 avg=2.61\n",
            "[80 | 190.79] loss=2.59 avg=2.61\n",
            "[90 | 214.27] loss=2.65 avg=2.61\n",
            "[100 | 237.93] loss=2.56 avg=2.61\n",
            "[110 | 261.53] loss=2.46 avg=2.59\n",
            "[120 | 285.08] loss=2.61 avg=2.59\n",
            "[130 | 308.63] loss=2.70 avg=2.60\n",
            "[140 | 332.26] loss=2.69 avg=2.61\n",
            "[150 | 355.90] loss=2.28 avg=2.59\n",
            "[160 | 379.51] loss=2.42 avg=2.57\n",
            "[170 | 403.08] loss=2.07 avg=2.54\n",
            "[180 | 426.68] loss=2.28 avg=2.53\n",
            "[190 | 450.27] loss=2.44 avg=2.52\n",
            "[200 | 473.81] loss=2.47 avg=2.52\n",
            "======== SAMPLE 1 ========\n",
            " represent the first three, as we make our way through this valley. As you see, there is the first three trees to the east, along with three additional trees. Return to the hut.<|endoftext|>\n",
            "<|startoftext|>Jared's Last Stand<|obj|>Slay 5 of Jared's Jellins in the Ruins.<|text|>My friend Jared, whose life is still scarred upon this land. In the middle of this valley is Jared's Jellin, and he has been a great help to us. The last of Jared's Jellins has died, and so did many others earlier this year. This should stop him from being a great threat.<|endoftext|>\n",
            "<|startoftext|>The Rise and Fall of the Dark Queen<|obj|>Return to Fel-Eyed Rorok at the Sanctuary.<|text|>This has to be one of the best parts of the trip!<|endoftext|>\n",
            "<|startoftext|>A New Opportunity<|obj|>Destroy the Dreadlord's Archmagi.<|text|>Darklord Rok has dispatched his forces to strike down our greatest archmage, the Dread Prince. We cannot allow him to pass through the Veil of Shadow. He is bent on undoing the true master of this land. Find him down the tunnel into the portal he created. We cannot allow him to escape the Veil of Shadow! You must succeed. It is not in your hand, and no time will be spared, for the dreadlord has already declared a mission against the Lich King.<|endoftext|>\n",
            "<|startoftext|>The Last of Jared<|obj|>Speak with Fel-Eyed Rorok at the Sanctuary.<|text|>We must go to meet our end. We have to find the last remaining archmage who has the power to bend the spirits into the Dark, when we know the Dark has not yet returned.<|endoftext|>\n",
            "<|startoftext|>The Rise and Fall of the Dark King<|obj|>Return to Fel-Eyed Rorok at the Sanctuary.<|text|>This war has begun. I must warn you, the Dark Lord does not have the kind of power we rely upon. Go down the tunnel and destroy his archmage. For now, take on the guise of an archmage and lead him by a trail of blood.<|endoftext|>\n",
            "<|startoftext|>The Rise and Fall of the Dark Queen<|obj|>Destroy the Dreadlord's Archmage.<|text|>While we await his arrival, we must not allow it to go through the Veil of Shadow. It will not stop the Lich King's plans against us. He is bent on undoing the true master of this land. Get ready for an assault. It is not in your hand. The dark lord is a formidable foe. With the aid of his archmage, destroy his archmage.<|endoftext|>\n",
            "<|startoftext|>The Rise and Fall of the Dark King<|obj|>Return to Fel-Eyed Rorok at the Sanctuary.<|text|>This has been a long process! My archmage, Fel-Eyed, has come back to us with something valuable to share. He needs some help destroying these vile abominations... we cannot allow him to escape the Veil of Shadow. Go down the tunnel and destroy his archmage. Our allies must be able to take him back soon.<|endoftext|>\n",
            "<|startoftext|>Fancy's Best'n Snapper<|obj|>Collect 3 Fancy'n Snapper.<|text|>Fancy'n snapper is a good one. It's always been in my wildest dreams that Jaron used it for his magic. It's a good trick for me. Take a fresh fancy'n snapper from the trees, and bring it to my friend. She's pretty much sure it's a fancy'n snapper. I can't miss it!<|endoftext|>\n",
            "<|startoftext|>WANTED: Jared's Jellin<|obj|>Obtain his Jellin from Jared Stormspinner.<|text|>The first thing we can do right now is to make preparations for our next attack. We can probably get it off of some trees just as the war begins! But we must make preparations quickly, so we must get the jellin back before he's too late. Take this jellin. It will serve as an excellent weapon if we don't keep it on the ground. You'll find it in the ruins at the bottom of this hill. Inside, you'll find Jared himself, standing before the demon, the\n",
            "\n",
            "[210 | 509.76] loss=2.27 avg=2.51\n",
            "[220 | 533.39] loss=2.51 avg=2.51\n",
            "[230 | 557.08] loss=2.54 avg=2.51\n",
            "[240 | 580.76] loss=2.08 avg=2.49\n",
            "[250 | 604.44] loss=2.48 avg=2.49\n",
            "[260 | 628.05] loss=2.39 avg=2.48\n",
            "[270 | 651.65] loss=2.50 avg=2.48\n",
            "[280 | 675.24] loss=2.13 avg=2.47\n",
            "[290 | 698.87] loss=2.36 avg=2.47\n",
            "[300 | 722.52] loss=2.16 avg=2.45\n",
            "[310 | 746.18] loss=2.26 avg=2.45\n",
            "[320 | 769.84] loss=2.11 avg=2.43\n",
            "[330 | 793.47] loss=2.28 avg=2.43\n",
            "[340 | 817.09] loss=2.47 avg=2.43\n",
            "[350 | 840.68] loss=2.20 avg=2.42\n",
            "[360 | 864.29] loss=2.25 avg=2.42\n",
            "[370 | 887.91] loss=2.35 avg=2.41\n",
            "[380 | 911.53] loss=2.21 avg=2.41\n",
            "[390 | 935.15] loss=2.45 avg=2.41\n",
            "[400 | 958.78] loss=2.33 avg=2.41\n",
            "======== SAMPLE 1 ========\n",
            "|text|>You see, I'm not sure if this is all going to cut it, but there is an older troll who had a vision, and it was all but a dream. We saw his vision and he took a stick to an old man, who probably had a good meal, at the inn to the east. I know the inn to the East, so we could have a snack before heading north. Do you think you can see the inn to the southeast?<|endoftext|>\n",
            "<|startoftext|>In Search of Jyn<|obj|>Speak with Landerfang.<|text|>There's the old troll, Jaunt. We've never gotten to see him quite like this. It's hard to get in and out of the caves to the east. He's one of the trolls we've spoken to, but he's not quite ready for the fight. If you're in, you'll be sure to find the troll himself so that we don't have to go back there. And remember to ask someone to help with whatever task you're up to!<|endoftext|>\n",
            "<|startoftext|>To the West<|obj|>Speak with the other Halflings outside the cave.<|text|>You might know the Halflings outside these caves. We'll need them to help pick us out. Go speak with Landerfang now. We'll need to see what's going on in there.<|endoftext|>\n",
            "<|startoftext|>In Search of Saren<|obj|>Speak with Sage Al'eshah.<|text|>The Halflings in the caves are more important than ever. I want them to know we are strong. If you are the Halfling sage and we know you can overcome this......this.............................. ...... ............ ...... ...... ...... <|endoftext|>\n",
            "<|startoftext|>The End<|obj|>Defeat Captain Hainius and the Black Prince at the Gates of Hoshkrel.<|text|>The Halfling clans of Ironforge have been sent forth from the Horde to confront Captain Hainius. It seems they are a growing threat to the Horde, but they can still use the aid of N'Zoth. You should face him, though, and defeat him. I could use your help, hero.<|endoftext|>\n",
            "<|startoftext|>The Bigger Good<|obj|>Meet with Gah'ar inside the Grom'gol Glade.<|text|>A group of goblins are heading southwest towards the Grom'gol Glade. I don't have time to go yet... But, we can meet those who came in contact with the goblin spirit... we have Gah'ar. He helped the goblins make sure that the Glade wasn't breached. I don't think you'd be much wiser if he hadn't died. Gah'ar told me to get out of here if I set foot here.<|endoftext|>\n",
            "<|startoftext|>The Battle of Harnar<|obj|>Defeat Zangary and the Halflings at the Worgen Wastes.<|text|>The Halflings have been a nuisance to the rest of the Halfling race since the days when they first appeared, and the last Halfling war has not been won in more than two generations. But, with the help of Kog'thik and his crew, the Halflings won't just survive the assault of the Zandalari trolls. Take these flanks. They would be best protected against the trolls if you fought the Halflings alone. Take these flanks south. They'll help you fight if you fight the Halflings alone.<|endoftext|>\n",
            "<|startoftext|>The Old and the Old: Jaina Proudmoore<|obj|>Speak with Durotan and learn the fate of Jaina.<|text|>For a while now I've been looking at this place. It's too small, too narrow, yet I've managed to see through the cracks. I haven't seen anyone there for days. I've seen a lot of little, green things come and go. One of my students mentioned something about Jaina. She always talks about going back to the cave when they're done. I never heard any talk of her going back. I believe Jaina's gone somewhere. I want her back. Would you mind handing me a hand?<|endoftext|>\n",
            "<|startoftext|>Grimmwood Forest<|obj|>Seek out Thaelin Wrynn.<|text|>The wyvern have been hunting Grimmwood the last few days. I need you to come out\n",
            "\n",
            "[410 | 993.64] loss=2.41 avg=2.41\n",
            "[420 | 1017.27] loss=2.30 avg=2.40\n",
            "[430 | 1040.90] loss=2.44 avg=2.40\n",
            "[440 | 1064.54] loss=2.23 avg=2.40\n",
            "[450 | 1088.18] loss=2.51 avg=2.40\n",
            "[460 | 1111.84] loss=2.43 avg=2.40\n",
            "[470 | 1135.48] loss=2.52 avg=2.41\n",
            "[480 | 1159.13] loss=1.86 avg=2.39\n",
            "[490 | 1182.78] loss=1.83 avg=2.38\n",
            "[500 | 1206.43] loss=2.18 avg=2.37\n",
            "Saving checkpoint/run1/model-500\n",
            "[510 | 1232.94] loss=2.39 avg=2.37\n",
            "[520 | 1256.64] loss=2.19 avg=2.37\n",
            "[530 | 1280.20] loss=2.18 avg=2.36\n",
            "[540 | 1303.81] loss=2.23 avg=2.36\n",
            "[550 | 1327.48] loss=2.08 avg=2.35\n",
            "[560 | 1351.12] loss=2.50 avg=2.36\n",
            "[570 | 1374.74] loss=2.30 avg=2.36\n",
            "[580 | 1398.37] loss=2.38 avg=2.36\n",
            "[590 | 1421.99] loss=2.57 avg=2.36\n",
            "[600 | 1445.60] loss=2.27 avg=2.36\n",
            "======== SAMPLE 1 ========\n",
            " deceased.<|endoftext|>\n",
            "<|startoftext|>A Troubled Past<|obj|>Bring 3 Fragmented Memories of the Past to Bwonsamdi<|text|>We are in constant contact with the bodies of our fallen heroes, and we are never left unheeded. I have a group of friends who remain here - some of whom were lost at the hands of the Lich King. They are still suffering terribly from the attack we gave them. Please, make them believe they are nothing more than a pawn of the Lich King and I will put them to rest.<|endoftext|>\n",
            "<|startoftext|>No Place Like Home<|obj|>Report to Lothros at the Argent Tournament Grounds, then speak with Arcanist Parshay in the Argent Tournament Grounds.<|text|>This is a difficult time. We have been forced to improvise on the battlefield, a vital part of our mission. You must be on your toes as you plan your next move. We've received reports from our people that the tournament grounds have been invaded by Scourge. We are going to investigate these claims. We need to do something. But you must report to Lothros at the Argent Tournament Grounds. Do this, and speak to Arcanist Parshay. Find and report here to us.<|endoftext|>\n",
            "<|startoftext|>Tales From the Hallowed Path<|obj|>Report your exploits to Rudely Dusko at the Shrine of the Stars in the Eastern Plaguelands.<|text|>It all began back in the halls of the tower in the middle of the desert.<|endoftext|>\n",
            "<|startoftext|>Kelsey's Journal<|obj|>Bring the Kelsey's Note to Keltra.<|text|>Greetings. The Kelsey's journal is full o' details that we've been waiting for. We were looking for someone to give me the information we needed on matters related to the temple. Well you should get it! A couple o' other dwarves have already come in to help along on the behalf of Kelsey's journal. You'll remember Keltra a' Lydon was a dwarf in high school... a big, mean, nasty, and... creepy dwarf who didn't know the name anymore. Anyway, let's talk about that. You must hurry. Take my letter to the Kelsey in the eastern part of the tower. Go on.<|endoftext|>\n",
            "<|startoftext|>Call of the Wildlord<|obj|>Slay any Horde that you see in the Valley of Fallen Heroes.<|text|>The Storm Lord has called in the assistance of Wildlurkers. He was sent to help us with what we needed. He calls himself \"Call of the Wildlord.\" He's a cunning hunter, so to him I may appear simple; to him, I am simply a rogue adventurer. We need protection, not weapons of mass destruction. Go through the Valley of Fallen Heroes north of Herefordshire, towards the southwest, and slay those who seem to have gone rogue against our interests.<|endoftext|>\n",
            "<|startoftext|>To a Hero, Then an Enemy<|obj|>Collect the Relics of the Wildlord.<|text|>I will not stand today's provocation. The Storm Lord has already declared avenge the dead to our fallen heroes. He has made his peace with the wilds. He has not asked to remain in existence for too long, however. His heart seizes with grief, he knows that they are no longer alive to him. I will not leave now, only my fate shall be decided by this final death.<|endoftext|>\n",
            "<|startoftext|>Touched By the Heart<|obj|>Bring the Chakra to Hanaa inside the Hallowed Path.<|text|>The first of our work was to collect some Chakra. Before I knew it, the Hallowed Path was overrun with those that had gone through the temple's door, now in their dark pits. It may be time to awaken the spirits here, the time has come.<|endoftext|>\n",
            "<|startoftext|>Crimson Skies<|obj|>Use the Lunar Ethereal to see to its north and see to its south. You will notice a Lunar Orb next to the north. Use this to reach out to the orb. Once within reach, use this orb to see that the path is clear. <|text|>It is an ancient and glorious sight. But this is not the only opportunity to see the Moon. You can also see past this and go west into the Hallowed Path. Once you are within reach, use this orb.<|endoftext|>\n",
            "<|startoftext|>The Unbel\n",
            "\n",
            "[610 | 1480.38] loss=2.14 avg=2.35\n",
            "[620 | 1504.04] loss=2.29 avg=2.35\n",
            "[630 | 1527.71] loss=2.37 avg=2.35\n",
            "[640 | 1551.35] loss=2.20 avg=2.35\n",
            "[650 | 1574.97] loss=2.08 avg=2.34\n",
            "[660 | 1598.55] loss=2.21 avg=2.34\n",
            "[670 | 1622.14] loss=2.23 avg=2.34\n",
            "[680 | 1645.73] loss=2.23 avg=2.34\n",
            "[690 | 1669.32] loss=2.27 avg=2.34\n",
            "[700 | 1692.89] loss=2.54 avg=2.34\n",
            "[710 | 1716.48] loss=2.32 avg=2.34\n",
            "[720 | 1740.08] loss=1.63 avg=2.33\n",
            "[730 | 1763.73] loss=2.04 avg=2.32\n",
            "[740 | 1787.41] loss=1.99 avg=2.31\n",
            "[750 | 1811.08] loss=2.23 avg=2.31\n",
            "[760 | 1834.87] loss=1.96 avg=2.31\n",
            "[770 | 1858.53] loss=2.06 avg=2.30\n",
            "[780 | 1882.20] loss=1.84 avg=2.29\n",
            "[790 | 1905.90] loss=2.08 avg=2.29\n",
            "[800 | 1929.65] loss=1.97 avg=2.28\n",
            "======== SAMPLE 1 ========\n",
            ". As much as we may be unable to get them, we may still be able to get 'em! But if you're not willing to pay, perhaps you can come collect samples from the creatures outside the entrance to the cavern.<|endoftext|>\n",
            "<|startoftext|>The Mender's Daughter<|obj|>Speak with Gort Freystok.<|text|>It was a pleasure meeting you. My wife Gort's death has been the cause of much sorrow for me, but my son, Gort, has been suffering from an overactive mind in the same way. If they were to continue to have reason to exist in the world we live in - not just the old man's, however - they'd be in grave danger. Will you go to the farmhouse east of here and talk to me? It will help to clear Gort of the fear...<|endoftext|>\n",
            "<|startoftext|>Mining Excursions<|obj|>Obtain a Sash'Sat Mine Pouch and use it to collect 8 Sash'Sat Ore. Return to me when you've exhausted your options and gathered enough ore from the mine's mine to begin mining.<|text|>There's a mine nearby that needs a lot more ore to mine! That mine has lots of Sash'Sat mine pouches. Those are the ones we're going to need to keep an eye on and keep an eye on while we're not mining! It's probably best to just get out and find some of the mine's pouches so we can get some of the extra ore we need.<|endoftext|>\n",
            "<|startoftext|>A Cure for the Dead<|obj|>Obtain 10 Bitter Carcass from the corpses in the Carcassar Mountains.<|text|>I don't think we've had a good fight here, though. There's no sign of any of the beasts that have taken advantage of this spot, so that would be an excellent place to start the work on our new cure. We'll need to find the dead corpses that were in their cages, so I want to study how they respond to your charms. Go to the Carcassar Mountains and slay any that you see, and bring back the corpses from their cages to me.<|endoftext|>\n",
            "<|startoftext|>A Cure for the Dead<|obj|>Obtain 6 Amber Lilies from the corpses in the Carcassar Mountains.<|text|>Look. There's a dead spot down there that we're going to use on the carcassar rylaks. It's right down the mountain to the north. If you could kill the dead, it should help us get to the proper parts to the cure. Look for the corpses that were captured in cages to the south. They'll all be near that place, so we'll do our part and get an update from them.<|endoftext|>\n",
            "<|startoftext|>A Cure for the Dead<|obj|>Obtain Amber and a Sack of Carcass Ore.<|text|>The beast here is so cunning, I think it's been trying to catch the wind of our new cure. You think we're going to try? , I know we're no easy people to work with - we know each other best as the farmhands - but we must learn how to be as good friends! The caravan that got us here is already busy, and we've run out of ammunition. If we can't get to our stockpiles of amber, maybe we can get that ore from the Carcassar and use it to the cure. Bring back the ingredients so we can get those parts back.<|endoftext|>\n",
            "<|startoftext|>The Ethereal's Haunt<|obj|>Speak with Arcanist Draz.<|text|>We are to meet the archmage, Arcanist Draz, within the Hall of Ascension. Arcanist is on his way up a flight of stairs. Arcanist is waiting for you at the Altar of Ethereals. Speak with him. We must meet the archmage! Arcanist Draz!<|endoftext|>\n",
            "<|startoftext|>The Missing Prince<|obj|>Help the prisoner by rescuing her from captivity.<|text|>Arya found some kind of magic there, where she had taken it to be useful. You don't know what the secrets of the place are, but if the secrets of the Hall of Ascension were some sort of relic in the hands of these spirits, it would be something of importance to tell you. If you can go into the hall to the top and rescue Arya, will you be happy to cooperate with us? I'm sure she must have some sort of magic\n",
            "\n",
            "[810 | 1964.58] loss=2.09 avg=2.28\n",
            "[820 | 1988.21] loss=2.33 avg=2.28\n",
            "[830 | 2011.83] loss=2.27 avg=2.28\n",
            "[840 | 2035.46] loss=2.27 avg=2.28\n",
            "[850 | 2059.08] loss=1.96 avg=2.28\n",
            "[860 | 2082.69] loss=2.25 avg=2.27\n",
            "[870 | 2106.31] loss=1.83 avg=2.27\n",
            "[880 | 2129.97] loss=1.97 avg=2.26\n",
            "[890 | 2153.64] loss=2.32 avg=2.26\n",
            "[900 | 2177.29] loss=2.32 avg=2.26\n",
            "[910 | 2200.96] loss=1.80 avg=2.26\n",
            "[920 | 2224.60] loss=2.09 avg=2.25\n",
            "[930 | 2248.23] loss=2.17 avg=2.25\n",
            "[940 | 2271.83] loss=2.35 avg=2.25\n",
            "[950 | 2295.43] loss=2.25 avg=2.25\n",
            "[960 | 2319.02] loss=2.06 avg=2.25\n",
            "[970 | 2342.60] loss=2.26 avg=2.25\n",
            "[980 | 2366.20] loss=2.21 avg=2.25\n",
            "[990 | 2389.80] loss=2.12 avg=2.25\n",
            "[1000 | 2413.43] loss=1.84 avg=2.24\n",
            "Saving checkpoint/run1/model-1000\n"
          ]
        },
        {
          "output_type": "stream",
          "name": "stderr",
          "text": [
            "WARNING:tensorflow:From /usr/local/lib/python3.9/dist-packages/tensorflow/python/training/saver.py:1067: remove_checkpoint (from tensorflow.python.checkpoint.checkpoint_management) is deprecated and will be removed in a future version.\n",
            "Instructions for updating:\n",
            "Use standard file APIs to delete files with this prefix.\n"
          ]
        }
      ]
    },
    {
      "cell_type": "code",
      "metadata": {
        "id": "VHdTL8NDbAh3"
      },
      "source": [
        "#save dataset checkpoint to google drive\n",
        "gpt2.copy_checkpoint_to_gdrive(run_name='run1')"
      ],
      "execution_count": null,
      "outputs": []
    },
    {
      "cell_type": "markdown",
      "source": [
        "Once Model Has been created, above lines dont need to be run again for testing"
      ],
      "metadata": {
        "id": "iJxCfspSP2lj"
      }
    },
    {
      "cell_type": "code",
      "metadata": {
        "id": "DCcx5u7sbPTD"
      },
      "source": [
        "# load the model from google drive\n",
        "gpt2.copy_checkpoint_from_gdrive(run_name='run1')"
      ],
      "execution_count": null,
      "outputs": []
    },
    {
      "cell_type": "code",
      "metadata": {
        "id": "-fxL77nvAMAX",
        "colab": {
          "base_uri": "https://localhost:8080/"
        },
        "outputId": "b9bda2da-e8e9-450a-b30a-5d9e232c0cb1"
      },
      "source": [
        "sess = gpt2.start_tf_sess()\n",
        "gpt2.load_gpt2(sess, run_name='run1')"
      ],
      "execution_count": null,
      "outputs": [
        {
          "output_type": "stream",
          "name": "stdout",
          "text": [
            "Loading checkpoint checkpoint/run1/model-1000\n"
          ]
        }
      ]
    },
    {
      "cell_type": "markdown",
      "metadata": {
        "id": "ClJwpF_ACONp"
      },
      "source": [
        "### Generate Text From The Fine-Tuned Model"
      ]
    },
    {
      "cell_type": "code",
      "metadata": {
        "id": "4RNY6RBI9LmL",
        "colab": {
          "base_uri": "https://localhost:8080/"
        },
        "outputId": "fccbe139-0988-4af2-af51-8de7a664cdf2"
      },
      "source": [
        "gpt2.generate(sess, run_name='run1')"
      ],
      "execution_count": null,
      "outputs": [
        {
          "output_type": "stream",
          "name": "stdout",
          "text": [
            "You've been to the Ruins of Kraul, a place where all manner of evil runs rampant. We believe the Twilight's Hammer has uncovered a hidden location of great power. You must travel there. Bring me back a sample of the demonic blood you seek!<|endoftext|>\n",
            "<|startoftext|>The Shadow Vault<|obj|>Kill 6 Twilight's Hammer Cultists in the Shadow Vault.<|text|>The Twilight's Hammer cultists have recently discovered a new location of great power to be found out there. Your mission is a simple one - infiltrate this location and destroy as many cultists as you can.<|endoftext|>\n",
            "<|startoftext|>The Twilight's Hammer<|obj|>Kill 6 Twilight's Hammer Cultists in the Shadow Vault.<|text|>The Twilight's Hammer cultists have recently discovered a new location of great power to be found out there. Your mission is a simple one - infiltrate this location and destroy as many cultists as you can.<|endoftext|>\n",
            "<|startoftext|>The Shadow Vault<|obj|>Kill 6 Twilight's Hammer Cultists in the Shadow Vault.<|text|>The Twilight's Hammer cultists have recently discovered a new location of great power to be found out there. Your mission is a simple - infiltrate this location and destroy as many cultists as you can.<|endoftext|>\n",
            "<|startoftext|>The Way of the Blade<|obj|>Speak with Enthralled Threshawhawk.<|text|>I have a plan to summon back the spirit of Threshawhawk. I'm sure she will be in our future, but be wary. She's a powerful spirit, much like the one we'll find ourselves in our future. I'll take you to her, will you?<|endoftext|>\n",
            "<|startoftext|>Skull of the Beast<|obj|>Kill 8 Twilight's Hammer Cultists in the Shadow Vault.<|text|>The Twilight's Hammer cultists have recently discovered a new location of great power to be found out there. Your mission is a simple - infiltrate this location and destroy as many cultists as you can.<|endoftext|>\n",
            "<|startoftext|>The Way of the Blade<|obj|>Speak to Threshawhawk.<|text|>I have a plan to summon back the spirit of Threshawhawk. I'm sure she will be in our future, but be wary. She's a powerful spirit, much like the one we'll find ourselves in our future. I'll take you to her, will you?<|endoftext|>\n",
            "<|startoftext|>The Way of the Blade<|obj|>Speak to Threshawhawk.<|text|>I have a plan to summon back the spirit of Threshawhawk. I'm sure she will be in our future, but be wary. She's a powerful spirit, much like the one we'll find ourselves in our future. I'll take you to her, will you?<|endoftext|>\n",
            "<|startoftext|>The Way of the Blade<|obj|>Speak to Threshawhawk.<|text|>I have a plan to summon back the spirit of Threshawhawk. I'm sure she will be in our future, but be wary. She's a powerful spirit, much like the one we'll find ourselves in our future. I'll take you to her, will you?<|endoftext|>\n",
            "<|startoftext|>The Way of the Blade<|obj|>Speak to Threshawhawk.<|text|>I have a plan to summon back the spirit of Threshawhawk. I'm sure she will be in our future, but be wary. She's a powerful spirit, much like the one we'll find ourselves in our future. I'll take you to her, will you?<|endoftext|>\n",
            "<|startoftext|>The Way of the Blade<|obj|>Speak to Threshawhawk.<|text|>I have a plan to summon back the spirit of Threshawhawk. I'm sure she will be in our future, but be wary. She's a powerful spirit, much like the one we'll find ourselves in our future. I'll take you to her, will you?<|endoftext|>\n",
            "<|startoftext|>The Way of the Blade<|obj|>Speak to Threshawhawk.<|text|>I have a plan to summon back the spirit of Threshawhawk. I'm sure she will be in our future, but be wary. She's a powerful spirit, much like the one we'll find ourselves in our future. I'll\n"
          ]
        }
      ]
    },
    {
      "cell_type": "code",
      "source": [
        "#generated text results for specifc quest name and objective\n",
        "# format <|startoftext|> Quest Name <|obj|> Quest Objective <|text|>\n",
        "gpt2.generate(sess,\n",
        "              length=250, #number of tokens to generate\n",
        "              temperature=0.7,#level of text unpredictability\n",
        "              prefix=\"<|startoftext|>Spooky Cave Party<|obj|>Talk to the goblins in the Big Spooky Cave.<|text|>\", #prefix to generate text off of\n",
        "              truncate=\"<|endoftext|>\", #truncate input text when encountering this sequence\n",
        "              nsamples=5, #number of output text samples to show\n",
        "              batch_size=5,\n",
        "              include_prefix=False, #hides prefix in output sample text\n",
        "              )"
      ],
      "metadata": {
        "colab": {
          "base_uri": "https://localhost:8080/"
        },
        "id": "iwfnJyZyOMgo",
        "outputId": "fd295850-cfe6-4e4a-a8e4-6f4dffd80c41"
      },
      "execution_count": null,
      "outputs": [
        {
          "output_type": "stream",
          "name": "stdout",
          "text": [
            "Hey, you're not here for a ride, are you? We're all out here trying to find the treasure chest that's hidden deep in this cave. I'm looking for a goblin to play with and help me with an overstuffing cave party. If you can go talk to the goblins in the cave, I'm sure they'll be warm to see you.\n",
            "====================\n",
            "I've got a little talk with the goblins in the cave. I hope you don't mind them.\n",
            "====================\n",
            "We're going to need a lot of help to survive in the wild!\n",
            "The goblins have been looking for a place to live, and for something to do with Goblins.\n",
            "The goblins are out there, and they're looking for something to do with goblins.\n",
            "Talk to one of the goblins and see if you can get us some help from the locals.\n",
            "\n",
            "====================\n",
            "I don't like goblins.\n",
            "These gnolls are really bad and they're making us jump out of bed like they're going in!\n",
            "I need the rest of our men to help me out!\n",
            "They need to be moved to the Big Spooky Cave to the north. We'll keep an eye out for them!\n",
            "====================\n",
            "Lucky for us, the goblins have set up a no-good troll party for a few hours. It's safe for now, but there's a troll in the cave that'll be ready to meet you. He's a goblin, and he's got a bit of a change of mind, so he'll be a lot more welcoming when you show up. I'm sure he'll want to hang out with you and the goblins. Just go talk to him.\n",
            "====================\n"
          ]
        }
      ]
    },
    {
      "cell_type": "code",
      "metadata": {
        "id": "8DKMc0fiej4N",
        "colab": {
          "base_uri": "https://localhost:8080/"
        },
        "outputId": "4393721d-4a20-4445-dc2a-78b817da8135"
      },
      "source": [
        "#try it again using the specific quest description name, objective and parameters provided in the original paper's code for comparison\n",
        "gpt2.generate(sess,\n",
        "              run_name='run1',\n",
        "              temperature=0.9,\n",
        "              prefix=\"<|startoftext|>In Dire Need<|obj|>Hear out the Council of Six in the Purple Parlor.<|text|>\",\n",
        "              truncate=\"<|endoftext|>\",\n",
        "              nsamples=5,\n",
        "              batch_size=5,\n",
        "              include_prefix=False,\n",
        "              )"
      ],
      "execution_count": null,
      "outputs": [
        {
          "output_type": "stream",
          "name": "stdout",
          "text": [
            "One of the Council of Six is preparing an envoy and demanding that we communicate with her.\n",
            "Sooner or later, the Council will dismiss her from her council.\n",
            "While she is of service, you should be the one to speak to her and make sure that conversation goes smoothly.\n",
            "====================\n",
            "If anything came out of the Council that happened, the problem will be one of vermin. Vermin. Undesignated vermin. When the torch goes out, the damned purple have come back in. Will you listen to me?\n",
            "====================\n",
            "It is time when the Council of Six met with Captain Taylor in the Purloining Hall.\n",
            "I believe he'll be a nice surprise to see again.\n",
            "====================\n",
            "The Council of Six is the last of new members of the new council, given the conflict between us. Bringing out a new member does not change the little goblin.\n",
            "====================\n",
            "Our boys have discovered a dire need from afar. Our scouts report the talkers have made their way to the Temple of Drak'Thalas in southern Durotar and informed them of a spire that can accommodate four times that number of men. Unfortunately, they are unable to keep up with all four factions at once, and as of late they have seen it rather infrequent. Each faction lacks in cohesion as a whole, and as such we must increase our forces. You will lead our troops further southwest through Dire Needle, scouting its area for new recruits. Go now.\n",
            "====================\n"
          ]
        }
      ]
    },
    {
      "cell_type": "markdown",
      "source": [
        "# Running on the SWTOR Database"
      ],
      "metadata": {
        "id": "bzAHm3C2OGV3"
      }
    },
    {
      "cell_type": "markdown",
      "source": [
        "###Fine-Tuning the Checkpoint on the SWTOR Database"
      ],
      "metadata": {
        "id": "OC1XYMPnRmwh"
      }
    },
    {
      "cell_type": "code",
      "source": [
        "#make new session, first try fine-tuning on current checkpoint\n",
        "#note that the previous WOW checkpoint must have been created for this to work\n",
        "#make sure to donwload model again at top if not downlaoded\n",
        "#fine-tuning takes about 30min using 128M model on T4GPU\n",
        "sess2 = gpt2.start_tf_sess()\n",
        "\n",
        "gpt2.finetune(sess2,\n",
        "              dataset=\"/content/drive/MyDrive/swtor_final_dataset.txt\",\n",
        "              model_name='124M',\n",
        "              steps=1000, #number of steps to run for\n",
        "              restore_from='latest', #fresh means to train from base gpt, use latest to start from an existing checpoint\n",
        "              run_name='run2', #subfolder within checkpoint to save the model\n",
        "              print_every=10,#Number of steps to print training progress\n",
        "              sample_every=200,#Number of steps to print example output\n",
        "              save_every=500\n",
        "              )"
      ],
      "metadata": {
        "colab": {
          "base_uri": "https://localhost:8080/"
        },
        "id": "uaxMDwTNRlzN",
        "outputId": "8e0e1865-e038-4be7-fcbe-4b3a2943bb65"
      },
      "execution_count": null,
      "outputs": [
        {
          "output_type": "stream",
          "name": "stdout",
          "text": [
            "Loading checkpoint models/124M/model.ckpt\n",
            "Loading dataset...\n"
          ]
        },
        {
          "output_type": "stream",
          "name": "stderr",
          "text": [
            "100%|██████████| 1/1 [00:01<00:00,  1.29s/it]\n"
          ]
        },
        {
          "output_type": "stream",
          "name": "stdout",
          "text": [
            "dataset has 242615 tokens\n",
            "Training...\n",
            "[10 | 26.81] loss=2.45 avg=2.45\n",
            "[20 | 48.84] loss=2.29 avg=2.37\n",
            "[30 | 71.37] loss=2.17 avg=2.30\n",
            "[40 | 93.80] loss=2.30 avg=2.30\n",
            "[50 | 116.00] loss=2.05 avg=2.25\n",
            "[60 | 138.21] loss=1.90 avg=2.19\n",
            "[70 | 160.55] loss=1.99 avg=2.16\n",
            "[80 | 182.88] loss=1.87 avg=2.12\n",
            "[90 | 205.18] loss=1.57 avg=2.06\n",
            "[100 | 227.44] loss=1.69 avg=2.02\n",
            "[110 | 249.67] loss=1.58 avg=1.98\n",
            "[120 | 271.93] loss=1.59 avg=1.94\n",
            "[130 | 294.21] loss=1.61 avg=1.92\n",
            "[140 | 316.51] loss=1.27 avg=1.87\n",
            "[150 | 338.82] loss=1.35 avg=1.83\n",
            "[160 | 361.11] loss=1.54 avg=1.81\n",
            "[170 | 383.41] loss=1.38 avg=1.78\n",
            "[180 | 405.68] loss=1.50 avg=1.77\n",
            "[190 | 427.94] loss=1.52 avg=1.75\n",
            "[200 | 450.19] loss=1.21 avg=1.72\n",
            "======== SAMPLE 1 ========\n",
            " of the Star of Coruscant. Use your ship’s galaxy map to travel to the planet of Voss.<|endoftext|>\n",
            "<|startoftext|>Final Stage – Ending a Better Life<|obj|>Defeat Separatist Forces<|text|>The separatists in Voss are making very clear they want to take the Republic away from the Republic. To shut down this insurgency requires the elimination of separatists in Voss. Take down separatists in Voss and their separatist leaders in the Republic Resettlement Zone.<|endoftext|>\n",
            "<|startoftext|>Flush with Bounty<|obj|>Defeat Separatist Forces<|text|>The separatist forces who have stolen the valuable cargo known as “The Hutt Cartel” have been empowering separatist leaders in the Voss. Eliminate this threat.<|endoftext|>\n",
            "<|startoftext|>Gang Justice<|obj|>Rescue the Wampa and the Wampa-slaying dog<|text|>You have been sent as an additional security for the security council to clear the path for some of the other security officers so they can be more easily identified. Use your ship’s galaxy map to travel to the Republic Resettlement Zone, where you will meet with a representative from the other security forces.<|endoftext|>\n",
            "<|startoftext|>Gang Violence<|obj|>Defeat Separatist Wampas<|text|>You have been sent as an extra security for the security council to clear the path for some of the other security officers so they can be more easily identified. Defeat the separatists and their wampas in the area at their gang-occupied territory in the Voss.<|endoftext|>\n",
            "<|startoftext|>Grand Strategy<|obj|>Destroy the Separatist Forces<|text|>Destroy the separatist forces that are threatening the Empire and recover their weapons.<|endoftext|>\n",
            "<|startoftext|>Gang Violence<|obj|>Destroy the Pancho Food Market Antennas<|text|>You have been told to stop the separatist gang called Fa’athra. Destroy the separatists’ food markets, food carts, food stores and snack counters in the Voss.<|endoftext|>\n",
            "<|startoftext|>Gang Violence<|obj|>Destroy the Wounded Resistance Prisoners<|text|>You have been told to clear out the resistance forces so they can be sent to medical treatment.<|endoftext|>\n",
            "<|startoftext|>Guardians of Industry<|obj|>Defeat Guilds<|text|>You have been sent to Voss as part of your mission to eliminate the Eagle’s guilds for being violent and criminal. Go to Voss.<|endoftext|>\n",
            "<|startoftext|>Handling the Competition<|obj|>Dispatch Wampas<|text|>You have been hired by Darth Baras to eliminate any wampas you see. Defeat Wampas around Voss as you travel.<|endoftext|>\n",
            "<|startoftext|>Healing Need<|obj|>Use the Healing Apparatus on Wounded Vossians<|text|>The Voss people of Voss fled the massacre of their people by the Sith. Many more will go to war with the Empire once they are healed. Heals up the wounded villagers and refugees along the Voss.<|endoftext|>\n",
            "<|startoftext|>Highway Traffic<|obj|>Dispatch Separatist Cars<|text|>You have been sent as an additional security for the security council to clear the path for some of the other security officers so they can be more easily identified. Ensure they’re clear from the separatists. Defeat the separatist-occupied separatist road in the Voss.<|endoftext|>\n",
            "<|startoftext|>Heroin<|obj|>Use the Holoterminal<|text|>Jedi Knight Vrar Sumale has received a holocall from a Voss prisoner that details how he and his friend, Jokull, were framed for the murder of their father. Upon searching the prison records, Sumale found the prison records contain additional information on the two men. Jekull and Vrar have been framed for the crime, and Jekull’s brother, Vrar Soliri, was recently captured within the prison, and asked to be released. After working hard to persuade the prison to release Jokull, you’ve agreed to work with the Voss to free himself and Vrar as a parting gift. Use the holoterminal located on the rooftop of the Voss Prison as your patrol vehicle over the\n",
            "\n",
            "[210 | 484.53] loss=1.01 avg=1.69\n",
            "[220 | 506.84] loss=1.11 avg=1.66\n",
            "[230 | 529.14] loss=1.01 avg=1.62\n",
            "[240 | 551.40] loss=1.09 avg=1.60\n",
            "[250 | 573.67] loss=1.30 avg=1.59\n",
            "[260 | 595.92] loss=1.12 avg=1.57\n",
            "[270 | 618.17] loss=0.96 avg=1.54\n",
            "[280 | 640.45] loss=0.93 avg=1.52\n",
            "[290 | 662.75] loss=1.20 avg=1.50\n",
            "[300 | 685.05] loss=0.61 avg=1.47\n",
            "[310 | 707.36] loss=1.11 avg=1.46\n",
            "[320 | 729.66] loss=0.92 avg=1.44\n",
            "[330 | 751.92] loss=0.83 avg=1.41\n",
            "[340 | 774.20] loss=0.70 avg=1.39\n",
            "[350 | 796.48] loss=0.91 avg=1.37\n",
            "[360 | 818.74] loss=0.70 avg=1.35\n",
            "[370 | 841.04] loss=0.63 avg=1.33\n",
            "[380 | 863.33] loss=0.55 avg=1.30\n",
            "[390 | 885.61] loss=0.62 avg=1.28\n",
            "[400 | 907.92] loss=0.78 avg=1.27\n",
            "======== SAMPLE 1 ========\n",
            "start|>Stage 3 – Bled Dryan<|obj|>Stage 3 – Cleansing Cleansing Pool<|text|>Demolish the defenses at the Bled Dryan expansion camp to pave the way for more expansion.<|endoftext|>\n",
            "<|startoftext|>Stage 3 – Cripple the Kings<|obj|>Stage 3 – Defeat King’s Snipers<|text|>In order to expedite the expansion of the Sand People into the new Republic–effectively shutting down their mining operations–SIS Agent Eriz Vengean has asked you to cripple their activities by taking out a slew of Sand People patrols. Take out as many of the Sand People patrolling patrols as you can.<|endoftext|>\n",
            "<|startoftext|>Stage 3 – Fall of the Sand People<|obj|>Take Out Sand People Forces<|text|>Take out any Sand People in your way in gaining access to the Second Tamil Claim Point.<|endoftext|>\n",
            "<|startoftext|>Stage 3 – Sending a Message<|obj|>Stage 2 – Defeat the Border Captivator<|text|>You received a new bounty for helping Border Captives carry out an assault on the Fort Triste research facility.<|endoftext|>\n",
            "<|startoftext|>Stage 3 – Sending a Message<|obj|>Travel to the Front Lines<|text|>You received a new bounty for helping Border Captives carry out an assault on the Fort Triste research facility.<|endoftext|>\n",
            "<|startoftext|>Stage 3 – Sanctions Breakout<|obj|>Defeat the Cartel and the Imperials<|text|>You received a new bounty for helping Cartel and the Imperials with their illegal operations in Balmorra. Less than a week ago, the Imperials and the Balmorran Arms Factory Arms Factory guards kidnapped the Republic hostages and have barricaded the facility in an attempt to force the Republic into a full-scale war. While you were with Republic hostage negotiators to complete our final strike, the Empire shot down our efforts. Our last signal was a distress call from the front lines. The Empire has begun a second. A Republic strike group is imminent. Republic scientists have developed a new weapon. A Republic fleet needs to be seen to be certain. Strike a further blow. Help the Republic strike group Hoth to ensure a safer location for our strike group. Travel to the besieged Republic factory and blow the factory’s beacon.<|endoftext|>\n",
            "<|startoftext|>Stage 3 – Sanctions Breakout<|obj|>Defeat Imperial Forces<|text|>You received a new bounty for helping Imperial forces with their illegal operations in Balmorra. Less than a week ago, the Imperials and the Balmorran Arms Factory Arms Factory Guards kidnapped and imprisoned the Republic hostages. Without our help, the Empire would likely have to pull back. To make matters worse, the Republic has already begun sabotaging the facility’s power relays. With the Republic forces weakened, the only option left to strike at the Imperials and factory staff at the factory floor is for them to collapse the relays. Thin the Empire’s numbers by cutting down any Imperial forces in the besieged Republic factory.<|endoftext|>\n",
            "<|startoftext|>Strength of the Flesh Raiders<|obj|>Defeat Flesh Raider Leaders<|text|>The Force-sensitive Flesh Raider leaders are threatening to overrun the new settlement Republic reconstruction requires. Reduce their numbers at the Republic reconstruction site in the southern Juran Mountains.<|endoftext|>\n",
            "<|startoftext|>Supply Recovery<|obj|>Speak to Lieutenant Madine<|text|>The Hutts’ supply is running low, as expected. A shipment of battle droids was last seen at the Tromper Crags Forests; Lieutenant Madine has asked you to recover the stolen shipments and recover some of the supplies at the drop box in southern Jundland.<|endoftext|>\n",
            "<|startoftext|>The Battle of Olaris<|obj|>Recover the Artifact From the Ridgescale’s Head<|text|>Following an opportunity to hunt down and destroy the Ridgescale criminal, you now wield the artifact of Tulak Hord on the planet Olaris. Breach the rift that leads to Tulak Hord.<|endoftext|>\n",
            "<|startoftext|>A Price is a Partner<|obj|>Travel to Voss<|text|>Lori Maloch has finally found a new partner in crime. She’s contacted Captain Geland via holocommunicator and asked you to find out where you’re going. Divers your efforts to find Out\n",
            "\n",
            "[410 | 941.21] loss=0.44 avg=1.24\n",
            "[420 | 963.47] loss=0.50 avg=1.22\n",
            "[430 | 985.77] loss=0.35 avg=1.20\n",
            "[440 | 1008.12] loss=0.44 avg=1.18\n",
            "[450 | 1030.65] loss=0.47 avg=1.16\n",
            "[460 | 1052.93] loss=0.46 avg=1.14\n",
            "[470 | 1075.18] loss=0.31 avg=1.12\n",
            "[480 | 1097.46] loss=0.81 avg=1.11\n",
            "[490 | 1119.72] loss=0.33 avg=1.09\n",
            "[500 | 1142.00] loss=0.24 avg=1.07\n",
            "Saving checkpoint/run2/model-500\n",
            "[510 | 1167.77] loss=0.29 avg=1.05\n",
            "[520 | 1190.11] loss=0.41 avg=1.03\n",
            "[530 | 1212.40] loss=0.39 avg=1.02\n",
            "[540 | 1234.71] loss=0.22 avg=1.00\n",
            "[550 | 1257.01] loss=0.18 avg=0.98\n",
            "[560 | 1279.33] loss=0.32 avg=0.96\n",
            "[570 | 1301.63] loss=0.19 avg=0.94\n",
            "[580 | 1323.92] loss=0.19 avg=0.93\n",
            "[590 | 1346.17] loss=0.43 avg=0.92\n",
            "[600 | 1368.43] loss=0.24 avg=0.90\n",
            "======== SAMPLE 1 ========\n",
            "othof in the Sinking City. He is sure it will draw you into a dangerous area. You have been asked to retrieve several holorecording recordings from Gantesh Sajni. The first recording is from Dantooine Spy, which has revealed the existence of Darth Jadus’s secret base. Go to Dantooine and search for information on Darth Jadus.<|endoftext|>\n",
            "<|startoftext|>The Gilded Porthos<|obj|>Travel to Taris<|text|>Master Tol Braga’s Padawan, Tharan Cedrax, recently spoke to you of an ancient Sith Lord named Gantesh Sajni. The details surrounding his power base are shrouded in mystery; however, you must deal with his followers on Taris to prevent them from taking advantage of the defenseless Republic defenses. Travel to Taris.<|endoftext|>\n",
            "<|startoftext|>The Hunt for Lord Melicoste<|obj|>Speak to Darth Ekkage<|text|>Your hunt for the last high-ranking Sith on Balmorra has brought you to the world of Taris. After speaking to Melicoste outside Lord Melicoste’s Hideout, you were able to find a number of Mandalorians who have tracked you to the ancient Sith Lord. Speak to Lord Melicoste inside of Lord Melicoste’s Hideout.<|endoftext|>\n",
            "<|startoftext|>The Long Goodbye<|obj|>Travel to Korriban<|text|>You have been sent to the future to confront Darth Baras. To fight him, you must first confront your enemy. Until you find your enemy, nothing grows two worlds apart. Now is the time to show this to the vanquished. Korriban is the home of the Jedi Order and the Empire’s first orbital bombardment of an object dubbed SL-04. Be ready to destroy the heavy hitters on the defensive ship.<|endoftext|>\n",
            "<|startoftext|>The Price of Betrayal<|obj|>Defeat Sith Lord Xere<|text|>With Jedi Knight Xere now dead, Darth Baras wishes to speak with you, the Jedi Knight. Speak to the Jedi Knight via your ship’s holoterminal.<|endoftext|>\n",
            "<|startoftext|>The Sith Lords<|obj|>Travel to Taris<|text|>Master Orgus has asked you to recover datascans to a SIS asset named Evocii7, for which he has a bounty of ten thousand ria. Go to the Tarisian hideout and meet with the asset.<|endoftext|>\n",
            "<|startoftext|>Thunderstruck<|obj|>Defeat Ghar Bodya<|text|>On your way to confront Andra Cressak, defeat Ghar Bodya and his beast.<|endoftext|>\n",
            "<|startoftext|>Treacher’s Servants<|obj|>Defeat Hoth’s Expedition<|text|>You and the Rift Alliance forces have been ambushed by Esh-kha forces. Show restraint and say goodbye to your allies before confronting the Esh-kha leader. Defeat Hoth’s Expeditionary Force troops and return to General Trelawno at the Esh-kha rallying point.<|endoftext|>\n",
            "<|startoftext|>Trouble begets Trouble<|obj|>Defeat Esh-kha Forces<|text|>The Esh-kha have usurped an Imperial outpost and been attacking Imperial troops. Defeat the Esh-kha invaders and their attackers.<|endoftext|>\n",
            "<|startoftext|>Wraid Threat<|obj|>Destroy Brain Teeth<|text|>A frightened child named Wengele is waiting in the security vault. Make sure his father doesn’t escape by cutting off his brain tekt. Destroy brain teeth and disable comm relayters in the vault.<|endoftext|>\n",
            "<|startoftext|>Welcome Party<|obj|>Enter the Esh-kha Base<|text|>Master Tol Braga’s expedition into the ancient Tomb of Tulak Hord has been disrupted by attacked groups of Esh-kha soldiers. To aid the survivors of the assault, call a meeting at one of the Esh-kha base camps in the northern area of Lake Samsun. Bring water and food supplies to the camp crops by using the water supply connection.<|endoftext|>\n",
            "<|startoftext|>Ancient Horizions<|obj|>Talk to Apprentice Avanj<|text\n",
            "\n",
            "[610 | 1401.78] loss=0.16 avg=0.88\n",
            "[620 | 1424.08] loss=0.31 avg=0.87\n",
            "[630 | 1446.38] loss=0.21 avg=0.86\n",
            "[640 | 1468.67] loss=0.17 avg=0.84\n",
            "[650 | 1490.93] loss=0.19 avg=0.83\n",
            "[660 | 1513.20] loss=0.09 avg=0.81\n",
            "[670 | 1535.48] loss=0.11 avg=0.80\n",
            "[680 | 1557.75] loss=0.12 avg=0.79\n",
            "[690 | 1580.01] loss=0.17 avg=0.77\n",
            "[700 | 1602.27] loss=0.10 avg=0.76\n",
            "[710 | 1624.52] loss=0.19 avg=0.75\n",
            "[720 | 1646.79] loss=0.13 avg=0.74\n",
            "[730 | 1669.02] loss=0.16 avg=0.73\n",
            "[740 | 1691.26] loss=0.21 avg=0.72\n",
            "[750 | 1713.59] loss=0.14 avg=0.71\n",
            "[760 | 1735.88] loss=0.11 avg=0.69\n",
            "[770 | 1758.15] loss=0.08 avg=0.68\n",
            "[780 | 1780.41] loss=0.06 avg=0.67\n",
            "[790 | 1802.68] loss=0.10 avg=0.66\n",
            "[800 | 1824.96] loss=0.15 avg=0.65\n",
            "======== SAMPLE 1 ========\n",
            " the area in order to help their new leader. Find the leader, Darth Baras, in the Sith Sanctum.<|endoftext|>\n",
            "<|startoftext|>The Thousand Steps<|obj|>Light the First Signal<|text|>With the defenses disabled, the mysteries of Tulak Hord’s secret base within the ruins of Transport Station 5 powered and moving, no doubt for a very long time. Darth Baras has been secretly upgrading the components inside the base. Despite looking forward to delivering a huge cache of powerful data, most people in the area haven’t reported seeing you in a few weeks. Stay tuned!</endoftext|>\n",
            "<|startoftext|>Time For Some Payback<|obj|>Eliminate Interrogation Personnel<|text|>While retrieving Republic POWs from their interrogators, kill any artifacts they find inside the interrogation chamber.<|endoftext|>\n",
            "<|startoftext|>Trials in Kaleth<|obj|>Searching for the First Blade<|text|>After watching the holorecording of Master Rajivari, Master Yuon Par has tasked you with locating and retrieving the legendary Jedi Master, Master Yuon Par. There is only one Jedi Master left in the galaxy and he is only one step away from total annihilation. Take a speeder to Outpost Varath in the Kaleth ruins and locate Master Yuon Par.<|endoftext|>\n",
            "<|startoftext|>Victims of War<|obj|>Find Lost<|text|>After completing your mission in the Gnarls, you spoke with Master Yuon Par regarding the latest information you learned on the planet. The Master was dubious at first, but he has agreed to help you get past the Gnarls’ defenders. He has given you a scanner to help you find the prisoners by scanning for Signs and Signs of the Jedi. Go to the Gnarls Prison with the scanner and look for signs of the Gnarls Talz.<|endoftext|>\n",
            "<|startoftext|>A Path Forward<|obj|>Travel to Taris<|text|>As part of your mission to stop the Rift Alliance and its Galactic Command stations from running amok, Commander Vilos has asked you to help retake the coordinates of the Empire’s capital ship, the Corvani. The coordinates have been stolen from the Rift Alliance stations. The Empire has responded by releasing horrific quantities of anti-aircraft guns and torpedo barge staffs. To make matters worse, these brave refugees pose a serious threat to any Republic forces that stand in their way. Travel to Taris using your ship’s galaxy map.<|endoftext|>\n",
            "<|startoftext|>Adrenal Secretions<|obj|>Retrieve Adrenal Secretors from Pirates<|text|>A Chiss scientist, Doctor Oslom, has informed you that the White Maw pirates are using advanced adrenal secretors to endure Hoth’s extreme cold. Oslom has asked you to recover the secretors. He has asked you to take one of the adrenal secretors factory workers and attempt to deactivate it, trapping his apprentice and his comrades in their tracks. Loot the adrenal secretors from the Adrenal Exchange Factory workers in the Whiterock Wastes.<|endoftext|>\n",
            "<|startoftext|>Adrenal Shutdown: A Chiss expert<|obj|>Obtain Adrenal Secretors from Adrenal Exchange Workers<|text|>A Chiss expert, Doctor Nefarid, has contacted you and informed you that the White Maw pirates are using an advanced adrenal secretor to endure Hoth’s extreme cold. Oslom has asked you to recover the secretors from the Adrenal Exchange Factory Workers in the Whiterock Wastes. Enter the Adrenal Exchange Factory Facility and search for the stolen adrenal secretors.<|endoftext|>\n",
            "<|startoftext|>Anchorhead: Bonus Series<|obj|>Defeat Coombs<|text|>In order to destroy the White Maw, you will need to create another one of a kind bomb. The bombs are pre-programmed to go off in secret locations, and the mining companies that produce them must pay for their continuance. Take out the mining explosives and destroy the pre-programmed mineshields in the Hutt Data Haven in the Lower Office Atrium.<|endoftext|>\n",
            "<|startoftext|>Anchorhead: Bonus Series<|obj|>Defeat White Maw Pirates<|text|>In order to create a devastating blow to the White Maw, you and Captain Welexon need the mining operations of the Moraine Territory restored. Kingfishermen in the Moraine Territory are notoriously hard\n",
            "\n",
            "[810 | 1858.25] loss=0.08 avg=0.64\n",
            "[820 | 1880.54] loss=0.13 avg=0.63\n",
            "[830 | 1902.86] loss=0.09 avg=0.62\n",
            "[840 | 1925.15] loss=0.08 avg=0.61\n",
            "[850 | 1947.43] loss=0.08 avg=0.60\n",
            "[860 | 1969.92] loss=0.09 avg=0.60\n",
            "[870 | 1992.23] loss=0.07 avg=0.59\n",
            "[880 | 2014.52] loss=0.11 avg=0.58\n",
            "[890 | 2036.80] loss=0.08 avg=0.57\n",
            "[900 | 2059.08] loss=0.08 avg=0.56\n",
            "[910 | 2081.39] loss=0.06 avg=0.55\n",
            "[920 | 2103.73] loss=0.07 avg=0.55\n",
            "[930 | 2126.00] loss=0.07 avg=0.54\n",
            "[940 | 2148.26] loss=0.05 avg=0.53\n",
            "[950 | 2170.53] loss=0.07 avg=0.52\n",
            "[960 | 2192.85] loss=0.06 avg=0.51\n",
            "[970 | 2215.10] loss=0.07 avg=0.51\n",
            "[980 | 2237.37] loss=0.06 avg=0.50\n",
            "[990 | 2259.63] loss=0.07 avg=0.49\n",
            "[1000 | 2281.86] loss=0.07 avg=0.49\n",
            "Saving checkpoint/run2/model-1000\n"
          ]
        },
        {
          "output_type": "stream",
          "name": "stderr",
          "text": [
            "WARNING:tensorflow:From /usr/local/lib/python3.9/dist-packages/tensorflow/python/training/saver.py:1067: remove_checkpoint (from tensorflow.python.checkpoint.checkpoint_management) is deprecated and will be removed in a future version.\n",
            "Instructions for updating:\n",
            "Use standard file APIs to delete files with this prefix.\n"
          ]
        }
      ]
    },
    {
      "cell_type": "code",
      "source": [
        "#save dataset checkpoint to google drive\n",
        "gpt2.copy_checkpoint_to_gdrive(run_name='run2')"
      ],
      "metadata": {
        "id": "xd5pxuG0e04o"
      },
      "execution_count": null,
      "outputs": []
    },
    {
      "cell_type": "markdown",
      "source": [
        "Once Model Has been created,above lines dont need to be run again for testing"
      ],
      "metadata": {
        "id": "jlMXFwjDRDfM"
      }
    },
    {
      "cell_type": "code",
      "source": [
        "# load the model from google drive\n",
        "gpt2.copy_checkpoint_from_gdrive(run_name='run2')\n",
        "\n",
        "sess2 = gpt2.start_tf_sess()\n",
        "gpt2.load_gpt2(sess2, run_name='run2')"
      ],
      "metadata": {
        "id": "F6soqI2re2Ul",
        "colab": {
          "base_uri": "https://localhost:8080/"
        },
        "outputId": "b7415cd9-c266-44a2-b4dc-5ccbc8c4c94d"
      },
      "execution_count": null,
      "outputs": [
        {
          "output_type": "stream",
          "name": "stdout",
          "text": [
            "Loading checkpoint checkpoint/run2/model-1000\n"
          ]
        }
      ]
    },
    {
      "cell_type": "code",
      "source": [
        "gpt2.generate(sess2, run_name='run2')"
      ],
      "metadata": {
        "colab": {
          "base_uri": "https://localhost:8080/"
        },
        "id": "hidm8Up0TVw2",
        "outputId": "fd620af6-85a6-4092-a6ae-30f1ae45b6f4"
      },
      "execution_count": null,
      "outputs": [
        {
          "output_type": "stream",
          "name": "stdout",
          "text": [
            ">The Shadow Syndicate<|obj|>Find the Second Hostile Situation<|text|>The ICC has become involved in the government of General Aves. Suspicion of General Aves’ whereabouts has been tested at this point, but resistance has grown in numbers as the conflict between the Imperials and the Shadow Syndicate grows. General Aves has asked you to find a defector from the General and recover the ICC datapad. A bodyguard is provided as proof of his demise. Retrieve the ICC datapad from the body of a defector.<|endoftext|>\n",
            "<|startoftext|>The Master’s Secret<|obj|>Use the Holoterminal<|text|>At last our targets have been defeated, and the final confrontation between Darth Baras and the Jedi Masters on Taris has begun. The Jedi have traced a crashed dreadnaught to the Voss, and the Empire’s advance is dangerously close. The Master of the Voss, Tulak Hord, has asked you to rescue the master’s lightsaber. Rance the White Seraph, and obtain the master’s holocall. The White Seraph must be in the area. Enter the Voss base.<|endoftext|>\n",
            "<|startoftext|>The Pilgrim’s Path<|obj|>Travel to Taris<|text|>You and Doctor Ianna Cel delivered a holocamera to the Grancha Lakand venom mine, but the location is not known yet. You’ve been asked to plan a course for a ship belonging to the Chiss hero. Use the holocall generator aboard the ship to draw the attention of the Voss pilgrim Doctora. Use the holocall generator aboard the ship to draw the attention of the Voss pilgrim Doctora.<|endoftext|>\n",
            "<|startoftext|>A Mystic’s Path<|obj|>Speak to Suva-Rak<|text|>You are on the trail of the lost artifacts of Tulak Hord, which are believed to be key to a secret ritual that will grant you great power. Darth Zash has traced one of these artifacts to the Voss. You’ve arrived on Taris to help a Chiss hero named Suva-Rak fight the Empire. Meet Suva-Rak on Taris.<|endoftext|>\n",
            "<|startoftext|>A Woman Saved<|obj|>Find the Lost Chiss Chameleon<|text|>Chiss thief Lelo Aure has procured the chiss’s valuable toothpail. With it, you can recover time-consuming repairs to old Taris’s power grids. Lelo has asked you to steal the toothpail. Locate the toothpail on the other side of the Jundland Compound.<|endoftext|>\n",
            "<|startoftext|>Away from Home<|obj|>Board the Tularan Spire<|text|>Enter the Imperial base on Nar Shaddaa.<|endoftext|>\n",
            "<|startoftext|>A Threat from the Past<|obj|>Take a Taxi to the New World<|text|>Your mission on Nar Shaddaa is to create a new, though already mysterious, species of Yuonis. The first, most urgent task is to recover the pieces of a lost world. You’ve assembled a motley crew of galactic spies, bounty hunters and smugglers to help you. Head to the Drift Hills research camp andart your way to the alien race.<|endoftext|>\n",
            "<|startoftext|>A Threat from the Past<|obj|>Eliminate the Rakghouls<|text|>Your closest contact, Watcher X, has revealed that a group of ancient rakghouls have invaded the Tularan Spire. This ancient race of aliens may be the most dangerous the Republic has to offer. Take out the rakghouls inside the Tularan Spire on Nar Shaddaa.<|endoftext|>\n",
            "<|startoftext|>A Threat from the Past<|obj|>Eliminate Republic Saboteurs<|text|>Your closest contact, Watcher X, has revealed that a group of ancient rakghouls have invaded the Tularan Spire. This ancient race may be the most dangerous the Republic has to offer. Take out the Republic saboteurs inside the Tularan Spire on Nar Shaddaa.<|endoftext|>\n",
            "<|startoftext|>Advanced Training: Agent Galen<|obj|>Report to Agent Agent Nie’al<|text|>You have been sent to the tomb of Ajunta Pall as part of your training at the\n"
          ]
        }
      ]
    },
    {
      "cell_type": "code",
      "source": [
        "gpt2.generate(sess2,\n",
        "              run_name='run2',\n",
        "              length=250, #number of tokens to generate\n",
        "              temperature=0.7,#level of text unpredictability\n",
        "              prefix=\"<|startoftext|>The Frozen War<|obj|>Talk to the wampas on Hoth.<|text|>\", #prefix to generate text off of\n",
        "              truncate=\"<|endoftext|>\", #truncate input text when encountering this sequence\n",
        "              nsamples=5, #number of output text samples to show\n",
        "              batch_size=5,\n",
        "              include_prefix=False, #hides prefix in output sample text\n",
        "              )"
      ],
      "metadata": {
        "colab": {
          "base_uri": "https://localhost:8080/"
        },
        "id": "uSqiV1XxYfML",
        "outputId": "871c8ba7-12db-4cd6-8666-3e5b429a7fd9"
      },
      "execution_count": null,
      "outputs": [
        {
          "output_type": "stream",
          "name": "stdout",
          "text": [
            "Your mission on Hoth is to recruit a technical specialist named Yuun into Havoc Squad. Yuun is currently assigned to recreate an Umbra encrypter, the device responsible for decades of unbreakable Imperial codes, using parts from crashed warships spread across Hoth’s frozen wastes. Sergeant Yuun has determined that the final Umbra component has been taken to the Star of Coruscant, a fallen dreadnaught occupied by the White Maw pirates. Unfortunately, Sergeant Yuun’s squad has suffered heavy casualties, and they are unable to assist you in recovering the component. Travel to the Star of Coruscant in the Starship Graveyard and recover the final Umbra component.\n",
            "====================\n",
            "The Republic is fighting to win favor with the Voss, the inhabitants of a newly discovered and mysterious world. You have been asked to assist Ambassador Jannik in his efforts to negotiate an alliance. After exposing a Sith plot to recruit failed Mystics, the Voss envoy Laryn-Ki revealed that the Mystics have had a vision. You will help the Voss defeat the Gormak, a race of technologically advanced warriors and the mortal enemies of the Voss people.\n",
            "====================\n",
            "You have been sent by Darth Jadus to rescue the Voice of the Emperor. You have defeated the Flesh Raiders and learned they have a nearby ruin. Go to the Voice of the Emperor rally at Jadus’s camp in the Glacial Fissure.\n",
            "====================\n",
            "You have been sent by the Emperor’s Hand to rescue the Voice of the Emperor. The reclusive wampas on Hoth are assembling to mark one of the crystal pillars as a symbol of Imperial might. The best place to start is the prepared warren inside the Jedi Temple. Infiltrate the Three Wispers Jedi Temple, and talk to the wampas there.\n",
            "====================\n",
            "You have come to Hoth to rescue the Voice of the Emperor. Madjar Thul’s entourage includes Lieutenant Poh, a former Imperial soldier who should know no more. Speak to Lieutenant Poh at his villa in the Gorinth Canyon to find out what’s going on.\n",
            "====================\n"
          ]
        }
      ]
    },
    {
      "cell_type": "markdown",
      "source": [
        "Fine-Tuning the Base Model on the SWTOR Database"
      ],
      "metadata": {
        "id": "DyiaohP5N9B9"
      }
    },
    {
      "cell_type": "code",
      "source": [
        "#make new session, fine-tuning on base model\n",
        "#previous checkpoints don't need to have been created for this to work\n",
        "#make sure to donwload model again at top if not downlaoded\n",
        "#fine-tuning takes about 30min using 128M model on T4GPU\n",
        "sess3 = gpt2.start_tf_sess()\n",
        "\n",
        "gpt2.finetune(sess3,\n",
        "              dataset=\"/content/drive/MyDrive/swtor_final_dataset.txt\",\n",
        "              model_name='124M',\n",
        "              steps=1000, #number of steps to run for\n",
        "              restore_from='fresh', #fresh means to train from base gpt, use latest to start from an existing checpoint\n",
        "              run_name='run3', #subfolder within checkpoint to save the model\n",
        "              print_every=10,#Number of steps to print training progress\n",
        "              sample_every=200,#Number of steps to print example output\n",
        "              save_every=500\n",
        "              )"
      ],
      "metadata": {
        "id": "whaa2Bx9eOsw",
        "colab": {
          "base_uri": "https://localhost:8080/"
        },
        "outputId": "e397c48b-dad9-4b93-d3cf-a9f1485d348a"
      },
      "execution_count": null,
      "outputs": [
        {
          "output_type": "stream",
          "name": "stdout",
          "text": [
            "Loading checkpoint models/124M/model.ckpt\n",
            "Loading dataset...\n"
          ]
        },
        {
          "output_type": "stream",
          "name": "stderr",
          "text": [
            "100%|██████████| 1/1 [00:01<00:00,  1.24s/it]\n"
          ]
        },
        {
          "output_type": "stream",
          "name": "stdout",
          "text": [
            "dataset has 242615 tokens\n",
            "Training...\n",
            "[10 | 29.77] loss=2.38 avg=2.38\n",
            "[20 | 51.23] loss=2.23 avg=2.30\n",
            "[30 | 72.95] loss=2.04 avg=2.22\n",
            "[40 | 95.09] loss=2.25 avg=2.22\n",
            "[50 | 117.08] loss=1.94 avg=2.17\n",
            "[60 | 138.93] loss=1.95 avg=2.13\n",
            "[70 | 160.86] loss=1.81 avg=2.08\n",
            "[80 | 182.82] loss=1.79 avg=2.05\n",
            "[90 | 204.79] loss=1.77 avg=2.01\n",
            "[100 | 226.80] loss=1.56 avg=1.97\n",
            "[110 | 248.73] loss=1.79 avg=1.95\n",
            "[120 | 270.64] loss=1.77 avg=1.93\n",
            "[130 | 292.51] loss=1.54 avg=1.90\n",
            "[140 | 314.36] loss=1.46 avg=1.87\n",
            "[150 | 336.36] loss=1.44 avg=1.84\n",
            "[160 | 358.24] loss=1.53 avg=1.82\n",
            "[170 | 380.16] loss=1.41 avg=1.79\n",
            "[180 | 402.03] loss=1.43 avg=1.77\n",
            "[190 | 424.01] loss=1.34 avg=1.74\n",
            "[200 | 445.95] loss=1.12 avg=1.71\n",
            "======== SAMPLE 1 ========\n",
            "While the Republic is trying to defeat Corellia, you need to stop them before they destroy everything you stand in your way. Defeat the Corellian forces inside the Corellian prison on Ortolani.<|endoftext|>\n",
            "<|startoftext|>Clear Out the Prison Facility<|obj|>Defeat Republic Prisoners<|text|>Defeat the Republic prison guard and his Republic prisoners in the Republic Prison Facility in the Corellian Sector.<|endoftext|>\n",
            "<|startoftext|>Colicoid Destruction<|obj|>Defeat Czerka Forces<|text|>As you fight your way through the Czerka camp on Ilum, you have ambushed their camp by taking out several of their guard droids and disabling their access terminals. Take out the Czerka guards guarding the access terminals in and around the access station.<|endoftext|>\n",
            "<|startoftext|>Clear the Primary Generator<|obj|>Defeat Republic and S4U Droids<|text|>Eliminate the Republic and S4U droids in the Corellian Sector.<|endoftext|>\n",
            "<|startoftext|>Cripple the Kings<|obj|>Defeat Republic Battlemasters<|text|>Destroy the Republic battlemasters and demolish their generators.<|endoftext|>\n",
            "<|startoftext|>Crush the Sand People<|obj|>Defeat Sand People Resistance Team Members<|text|>Take out any of them you encounter in the Corellian Sector.<|endoftext|>\n",
            "<|startoftext|>Crash Course<|obj|>Disable Combat Beacon Systems<|text|>The Sand People are using the “cyanin” electronic defense system to take control of the planet. The Sand People team-up with the Imperial fleet to strike at the Empire’s main shock generator. The Imperial dreadnaught, the Infirmary, is under attack. A group of Jedi are taking the dreadnaught down. The Sith must be brought down first. Eliminate all the Jedi and their allies in the infirmary in the Corellian Sector.<|endoftext|>\n",
            "<|startoftext|>Crush the Imperials<|obj|>Defeat Imperial Forces<|text|>While defeating the Imperial forces running the heavy machinery around the spaceport, you can clear the way for an assault on the Republic’s main facility. Defeat the Imperial forces in the Republic Factory District to begin the assault.<|endoftext|>\n",
            "<|startoftext|>Dead of Night<|obj|>Defeat Imperial Forces<|text|>In order to clear Outpost Valen Cadera for Imperial troops, the Imperial Intelligence would like you to take out the Republic shock troops there. Defeat them in the rebel stronghold in the Corellian Sector.<|endoftext|>\n",
            "<|startoftext|>Deck the Halls with the Mandalorians<|obj|>Destroy the Exchange Shipments<|text|>After exposing an ancient Sith plot to corrupt the galaxy, the Exchange has unleashed a monstrous plague on its citizens. You must disrupt the infection and stop the Mandalorians from turning the Empire’s M1 Garrisons against the Republic. Destroy the shipment of Mandalorian medicine in the Exchange’s cargo hold in the Corellian Sector.<|endoftext|>\n",
            "<|startoftext|>Deliver the Evidence<|obj|>Recover Jedi Evidence<|text|>Darth Tark has issued you with a new Sith treasure: A new Sith Supreme Chancellor. Having gained his favor during the Great Sith War, Tark has set his sights on a new, more sinister enemy: the Jedi. With his forces in the field, he is certain you will ally with Tark’s allies in the cause. Take the Jedi holothecations from the ancient Sith archives at the Sith Sanctum.<|endoftext|>\n",
            "<|startoftext|>Endorsement<|obj|>Use Your Personal Holocom<|text|>After speaking with the Republic Ambassador to the planet Taval Turdes, you learned he would like you to further bolster the Republic’s image as the world’s leading forces in galactic combat. With the help of your old enemy, Dr. Agrill, you have learned that the Ambassador has gone mad in Taval’s castle. The Ambassador has used the Empire’s new superweapon, Belsavis, to wipe out the Empire’s strongest forces. In order to win over Taval, you must draw him away from you. Collect and use your ship’s data console to access the Empire’s data console on the battle-zone in the Corellian\n",
            "\n",
            "[210 | 480.81] loss=1.25 avg=1.69\n",
            "[220 | 502.74] loss=1.16 avg=1.66\n",
            "[230 | 524.76] loss=1.28 avg=1.64\n",
            "[240 | 546.69] loss=1.12 avg=1.62\n",
            "[250 | 568.60] loss=1.10 avg=1.59\n",
            "[260 | 590.50] loss=0.80 avg=1.56\n",
            "[270 | 612.40] loss=1.07 avg=1.54\n",
            "[280 | 634.51] loss=1.07 avg=1.52\n",
            "[290 | 656.51] loss=0.79 avg=1.49\n",
            "[300 | 678.58] loss=0.93 avg=1.47\n",
            "[310 | 700.46] loss=0.87 avg=1.45\n",
            "[320 | 722.36] loss=0.90 avg=1.43\n",
            "[330 | 744.26] loss=0.67 avg=1.40\n",
            "[340 | 766.16] loss=0.66 avg=1.37\n",
            "[350 | 788.07] loss=0.77 avg=1.35\n",
            "[360 | 809.97] loss=0.77 avg=1.34\n",
            "[370 | 831.87] loss=0.89 avg=1.32\n",
            "[380 | 853.77] loss=0.64 avg=1.30\n",
            "[390 | 875.67] loss=0.58 avg=1.28\n",
            "[400 | 897.55] loss=0.50 avg=1.25\n",
            "======== SAMPLE 1 ========\n",
            ". In the Imperial detention center, the prison interrogation droid told you that a gang of Imperial terrorists are keeping a prisoner named Bex. To get to him, you must get information from a prison informant. Find Bex.<|endoftext|>\n",
            "<|startoftext|>Breaking the Blockade<|obj|>Destroy Imperial Forces<|text|>Officer Drooga has learned that a group of Imperial officers have captured a female dancer named Vette. While investigating the theft, destroy any Imperials who try to stop you.<|endoftext|>\n",
            "<|startoftext|>Clean out the Detention Center<|obj|>Eliminate Imperial Forces<|text|>Defeat the Imperial forces inside the Imperial Detention Center.<|endoftext|>\n",
            "<|startoftext|>Catch Them in Their Tracks<|obj|>Speak to Captain Golah<|text|>An Imperial droid, AR-72, is planning to disrupt the Republic’s cargo ship the Starblazers are en route to Fort Garnik. You have agreed to intercept the AR-72’s shuttle and find out what’s in it. Speak to Captain Golah at the CorSec walker to find out how you can help.<|endoftext|>\n",
            "<|startoftext|>Clean Up Gowron<|obj|>Eliminate Resistance Forces<|text|>Defeat the Resistance forces within Gowron Barracks.<|endoftext|>\n",
            "<|startoftext|>Dark Science<|obj|>Disable the Sensor Array<|text|>While disabling the sensors in Barrack Lanthanum’s garrison, take out any Resistance forces that get in your way.<|endoftext|>\n",
            "<|startoftext|>Drive Them Out<|obj|>Defeat Imperial Forces<|text|>While taking out any Imperials that got in your way, clear the area of Imperials.<|endoftext|>\n",
            "<|startoftext|>Exterminate the Exchange<|obj|>Defeat Exchange Forces<|text|>The Empire is using the Exterminator on Xeno forces to release their super-intelligent, prison-busting programming. Cut a path through the entrenched alien resistance that the Empire is using on their foes.<|endoftext|>\n",
            "<|startoftext|>For Want of a Droid<|obj|>Find and Defeat the Jedi Leaders<|text|>An Imperial droid, AR-72, is planning to disrupt the Republic’s cargo ship the Starblazers are on, and disable its communications. The Empire’s droid leaders are holed up in the forward operating base, listening to his warnings.<|endoftext|>\n",
            "<|startoftext|>Giant Killer<|obj|>Speak to Risha<|text|>Your mission on Hoth is to recruit a technical specialist named Yuun into Havoc Squad. Yuun is currently working on a prototype disruptor, but a hostile Gormak named Zee has developed a deadly prototype capable of destroying a ship and targeting a civilian. A bounty is being offered for his assistance, but Risha says that there will be no cover attacks unless the technical specialist is eliminated. Travel to Nar Shaddaa to begin your hunt for the Gormak technical specialist.<|endoftext|>\n",
            "<|startoftext|>Gormak Fanatical<|obj|>Defeat Imperial Forces<|text|>The Empire is preparing for battle within the alien world of Hoth. Members of the infamous Mandalorians have overrun the Camp Vigil and pinned many of their strength on the planet. While you fight your way through the locals, take out any Imperials who try to stop you. Defeat Imperial Forces in the Camp Vigil in the Glarus Valley.<|endoftext|>\n",
            "<|startoftext|>Healing a Hutt<|obj|>Meditate at the Western Healing Center<|text|>Gormak shaman Voh Markan instructed you to take a medicine bite out of a wounded Republic scout while you recover. He also gave you a medkit to use while you start healing the scout. Meditate at the Western Healing Center at Camp Talanin.<|endoftext|>\n",
            "<|startoftext|>Nar Shaddaa Part I – A Journal Of Its Own Prologue<|obj|>Speak to Captain Vandal<|text|>A Gormak named Skav Mer’sak has contacted you and told you that a musk named Vivicar is entrapping a Republic soldier named Ranuk. The Gormak are taking the musk to be serrated and then massaged it, so you’ve been forced to kill him. The musk’s owner, Dra\n",
            "\n",
            "[410 | 930.48] loss=0.59 avg=1.23\n",
            "[420 | 952.38] loss=0.45 avg=1.21\n",
            "[430 | 974.28] loss=0.51 avg=1.19\n",
            "[440 | 996.20] loss=0.33 avg=1.17\n",
            "[450 | 1018.13] loss=0.60 avg=1.15\n",
            "[460 | 1040.03] loss=0.37 avg=1.13\n",
            "[470 | 1061.93] loss=0.34 avg=1.11\n",
            "[480 | 1083.81] loss=0.62 avg=1.10\n",
            "[490 | 1105.65] loss=0.35 avg=1.08\n",
            "[500 | 1127.52] loss=0.31 avg=1.06\n",
            "Saving checkpoint/run3/model-500\n",
            "[510 | 1152.23] loss=0.33 avg=1.04\n",
            "[520 | 1174.18] loss=0.26 avg=1.02\n",
            "[530 | 1196.09] loss=0.25 avg=1.00\n",
            "[540 | 1217.95] loss=0.24 avg=0.98\n",
            "[550 | 1239.81] loss=0.29 avg=0.97\n",
            "[560 | 1261.69] loss=0.23 avg=0.95\n",
            "[570 | 1283.60] loss=0.22 avg=0.93\n",
            "[580 | 1305.49] loss=0.15 avg=0.92\n",
            "[590 | 1327.39] loss=0.26 avg=0.90\n",
            "[600 | 1349.28] loss=0.18 avg=0.89\n",
            "======== SAMPLE 1 ========\n",
            "|startoftext|>The Fall of the Sand People<|obj|>Defeat Sand People Forces<|text|>The Sand People appear to be preparing for a major attack on nearby settlements. Defeat their forces!<|endoftext|>\n",
            "<|startoftext|>The Sand People: Overrun Massacre<|obj|>Eliminate Sand People Forces<|text|>The Sand People appear to be preparing for a major attack on nearby settlements. Cut down the Sand People to contain their aggression.<|endoftext|>\n",
            "<|startoftext|>The Thousand Year Door<|obj|>Speak to General Skylast<|text|>Plan Zero targets you at the flagship of Sith Academy, the Tall Blacklac.<|endoftext|>\n",
            "<|startoftext|>The Thousand Year Door<|obj|>Speak to General Skylast<|text|>Plan Zero targets you at the flagship of Sith Academy, the Tall Blacklac.<|endoftext|>\n",
            "<|startoftext|>Clear out Imperial Outpost Alpha<|obj|>Defeat Imperial Outpost Fighters<|text|>Eliminate the Imperial fighters guarding the Republic outpost in northern Tython.<|endoftext|>\n",
            "<|startoftext|>Clear The Vault<|obj|>Turn in the Stealth Computer<|text|>Turn in the theft of the Stealth Computer from the Mission Terminal<|endoftext|>\n",
            "<|startoftext|>Clearing The Vault<|obj|>Defeat Imperial Forces<|text|>Defeat the Imperial forces guarding the Vault in the Tularan Marsh.<|endoftext|>\n",
            "<|startoftext|>Clear The Vault<|obj|>Defeat Imperial Forces<|text|>Defeat the Imperial forces guarding the Vault in the Tularan Marsh.<|endoftext|>\n",
            "<|startoftext|>Clearing The Vault – Assault<|obj|>Defeat Imperial Forces<|text|>Defeat the Imperial forces guarding the Vault in the Tularan Marsh.<|endoftext|>\n",
            "<|startoftext|>Clearing The Vault – Protector<|obj|>Clear Vault 1<|text|>Clear the vault of Imperials.<|endoftext|>\n",
            "<|startoftext|>Cloture<|obj|>Stage 1 – Defeat Lanklyn’s Clans<|text|>In your efforts to gain access to the Jedi Council’s pitiful treasury, Master Satele wants you to steal the designs and display cases from the Jedi Envoy downrange them in the Jedi Temple. First, though, a little persuasion will do. Once the effects of the Jedi Envoy are neutralized, defeat the defenders around the Master’s starship and head to the Pit Caverns in the Justice Sector to begin the full trial.<|endoftext|>\n",
            "<|startoftext|>Catching A Slippery Eel<|obj|>Go to the Slippery Eel Chamber<|text|>As you race to stop Lord Joradus’s ship, you can be seen panting in the cargo area of the Senate tower. Make your way to Lord Joradus’s ship and stop her before she recoils.<|endoftext|>\n",
            "<|startoftext|>Crawlers<|obj|>Defeat the Deep Crashed ZR-57 Arena Duelists<|text|>A Bashrar worker named Soleks was about to make a very large bomb out of scrap parts, but he was informed by the worker that the bomb will never make it to the job. He has asked you to defeat the Deep Crashed ZR-57 workers in their hangar and recover any bomb debris they may have contained.<|endoftext|>\n",
            "<|startoftext|>Curing Corruption<|obj|>Smoke Out and Defeat Shai Tenna<|text|>Shai Tenna received a transmission from her ship saying that the people of Korriban have revolted against the Empire and must be stopped. Shai Tenna enlisted your help in getting these resistance forces out. Defeat Shai Tenna’s rebel forces in the rebel stronghold in the southern Jasaaho Pass.<|endoftext|>\n",
            "<|startoftext|>Dark Temptations<|obj|>Speak to Lord Quicar<|text|>You successfully thwarted Lord Zan’var’s invasion of Corellia. Now your objective is to find a way to defeat Lord Quicar before he finds a way to Corellia’s people. Travel to Corellia and speak with Lord Quicar at his house on the upper end of Highgarden Ravnica.<\n",
            "\n",
            "[610 | 1381.68] loss=0.16 avg=0.87\n",
            "[620 | 1403.55] loss=0.13 avg=0.85\n",
            "[630 | 1425.42] loss=0.14 avg=0.84\n",
            "[640 | 1447.31] loss=0.19 avg=0.82\n",
            "[650 | 1469.20] loss=0.17 avg=0.81\n",
            "[660 | 1491.10] loss=0.17 avg=0.80\n",
            "[670 | 1513.02] loss=0.14 avg=0.78\n",
            "[680 | 1534.93] loss=0.19 avg=0.77\n",
            "[690 | 1556.82] loss=0.08 avg=0.76\n",
            "[700 | 1578.71] loss=0.12 avg=0.75\n",
            "[710 | 1600.60] loss=0.11 avg=0.73\n",
            "[720 | 1622.47] loss=0.08 avg=0.72\n",
            "[730 | 1644.34] loss=0.15 avg=0.71\n",
            "[740 | 1666.22] loss=0.13 avg=0.70\n",
            "[750 | 1688.11] loss=0.06 avg=0.69\n",
            "[760 | 1710.01] loss=0.09 avg=0.68\n",
            "[770 | 1731.90] loss=0.14 avg=0.67\n",
            "[780 | 1753.80] loss=0.13 avg=0.66\n",
            "[790 | 1775.69] loss=0.11 avg=0.65\n",
            "[800 | 1797.60] loss=0.10 avg=0.64\n",
            "======== SAMPLE 1 ========\n",
            "|>Deliver Lord Qyzen to the Republic Zones<|text|>Deliver Lord Qyzen to the Republic Zones in the remote desert to prevent further interference with your goal of eliminating the Empire’s No Man Left Behind task force. Use the data console inside the Republic Tunnels to issue the search parties a holorecording. Use the holoterminal at the Republic Tunnels to issue the search parties a holorecording.<|endoftext|>\n",
            "<|startoftext|>Final Stage – Freightskipper Fracas<|obj|>Reset Crustal Crustal Fertilizers<|text|>Camp Crustal on the upper level of the Mandalorian enclave.<|endoftext|>\n",
            "<|startoftext|>Financing the Enemy<|obj|>Board a Shuttle and Fight Off the Fray<|text|>Destroy the separatist snipers near the recon droid’s ship as proof.<|endoftext|>\n",
            "<|startoftext|>Fire and Ice<|obj|>Stage 1: Defeat Malgus’s Forces<|text|>Ledo Malgus has drawn your attention from the other prisoners on the island. He’s led another attack on the outpost, this time an Imperial one. In order to survive, you must thrash out the rendezvous points of his forces before ending their lives. Over the mountain caves in the Glacial Fissure, defeat Malgus’s forces and the renegade guards of his base.<|endoftext|>\n",
            "<|startoftext|>The Scorpio Pays Dragon<|obj|>Use Your Ship’s Holoterminal<|text|>Qyzen is still feeling shame over losing control of his anger-fueled rakghoul with a bloodthirsty new apprentice! His former master, Hunter Moon, claimed his right to revenge, but you agreed to mentor him and make him a hero in the first place. You have learned from Night Herald that Hunter Moon has an army of droids that will turn up at his secret base if you come while you’re left to myself. Return to the Republic Shipbuilders’ office in Drelliad to download the training plans.<|endoftext|>\n",
            "<|startoftext|>The Scorpio Pays Dragon<|obj|>Use Your Ship’s Holoterminal<|text|>Your ship has been invaded by a ferocious, razor-sharp angry beast. You’ve agreed to help the little gundaw, make it fear you and save some of the prisoners by taking out its master. You can find the scorpion at the front of Lucky Eagle’s fortune-telling office in Kaas City.<|endoftext|>\n",
            "<|startoftext|>The Scorpio Pays Dragon<|obj|>Remove its Master Memory Chain<|text|>Remove the memory chain<|endoftext|>\n",
            "<|startoftext|>The Thing Czerka Found<|obj|>Speak to Fyrel Cannor<|text|>Officer Nefarid has been investigating a smuggler who was snooping around about Ugnaughn Cullin’s smuggling operations. The smuggler, Officer Nefarid believes, is Darth Zash’s former servant and bomb maker, Agent Fyrel Cannor. Agent Fyrel has been trying to contact Fyrel all these years, but her computer keeps getting retraced. She wishes to speak with the man and tells you where to find him. Head to the Ugnaughn transport hub and find the last known location of Agent Fyrel Cannor.<|endoftext|>\n",
            "<|startoftext|>Trouble at the Agricultural Outpost<|obj|>Defeat Rebel Rebel Workers<|text|>On your way to plant the first blade, defeat rebel rebel rebels to make sure everyone follows your orders.<|endoftext|>\n",
            "<|startoftext|>Wiping the Slate<|obj|>Return to Major Cressen<|text|>Major Cressen has asked you to wipe out the rebels and recover their weapons. Do this using the power unit on their weapons that you found scattered around the rebel stronghold.<|endoftext|>\n",
            "<|startoftext|>Weed Out the Empire<|obj|>Defeat Imperial Forces<|text|>Wipe the main reactor out and the power unit inside.<|endoftext|>\n",
            "<|startoftext|>Factory Recall<|obj|>Destroy Minefield Droids<|text|>Industrial espionage agent Malgus and his team have been stealing power units from the Republic. Lord Vivicar has asked you to stop\n",
            "\n",
            "[810 | 1830.48] loss=0.06 avg=0.63\n",
            "[820 | 1852.36] loss=0.14 avg=0.62\n",
            "[830 | 1874.26] loss=0.08 avg=0.61\n",
            "[840 | 1896.18] loss=0.18 avg=0.60\n",
            "[850 | 1918.08] loss=0.06 avg=0.59\n",
            "[860 | 1940.00] loss=0.09 avg=0.58\n",
            "[870 | 1961.89] loss=0.07 avg=0.57\n",
            "[880 | 1983.76] loss=0.10 avg=0.57\n",
            "[890 | 2005.64] loss=0.06 avg=0.56\n",
            "[900 | 2027.50] loss=0.10 avg=0.55\n",
            "[910 | 2049.37] loss=0.05 avg=0.54\n",
            "[920 | 2071.25] loss=0.09 avg=0.53\n",
            "[930 | 2093.13] loss=0.07 avg=0.53\n",
            "[940 | 2115.02] loss=0.04 avg=0.52\n",
            "[950 | 2136.91] loss=0.07 avg=0.51\n",
            "[960 | 2158.79] loss=0.07 avg=0.50\n",
            "[970 | 2180.66] loss=0.05 avg=0.50\n",
            "[980 | 2202.53] loss=0.08 avg=0.49\n",
            "[990 | 2224.38] loss=0.08 avg=0.48\n",
            "[1000 | 2246.26] loss=0.07 avg=0.48\n",
            "Saving checkpoint/run3/model-1000\n"
          ]
        },
        {
          "output_type": "stream",
          "name": "stderr",
          "text": [
            "WARNING:tensorflow:From /usr/local/lib/python3.9/dist-packages/tensorflow/python/training/saver.py:1067: remove_checkpoint (from tensorflow.python.checkpoint.checkpoint_management) is deprecated and will be removed in a future version.\n",
            "Instructions for updating:\n",
            "Use standard file APIs to delete files with this prefix.\n"
          ]
        }
      ]
    },
    {
      "cell_type": "code",
      "source": [
        "#save dataset checkpoint to google drive\n",
        "gpt2.copy_checkpoint_to_gdrive(run_name='run3')"
      ],
      "metadata": {
        "id": "0czErm9COl_s"
      },
      "execution_count": null,
      "outputs": []
    },
    {
      "cell_type": "markdown",
      "source": [
        "Once Model Has been created,above lines dont need to be run again for testing"
      ],
      "metadata": {
        "id": "HLk8tSRyRbTy"
      }
    },
    {
      "cell_type": "code",
      "source": [
        "# load the model from google drive\n",
        "gpt2.copy_checkpoint_from_gdrive(run_name='run3')\n",
        "\n",
        "sess3 = gpt2.start_tf_sess()\n",
        "gpt2.load_gpt2(sess3, run_name='run3')"
      ],
      "metadata": {
        "id": "J450ixk4PVBL",
        "colab": {
          "base_uri": "https://localhost:8080/"
        },
        "outputId": "61c85a99-4228-439f-8161-dde4d8ad564f"
      },
      "execution_count": null,
      "outputs": [
        {
          "output_type": "stream",
          "name": "stdout",
          "text": [
            "Loading checkpoint checkpoint/run3/model-1000\n"
          ]
        }
      ]
    },
    {
      "cell_type": "code",
      "source": [
        "gpt2.generate(sess3, run_name='run3')"
      ],
      "metadata": {
        "colab": {
          "base_uri": "https://localhost:8080/"
        },
        "id": "v-U4a1OsPV_p",
        "outputId": "9fc9e1fe-05f8-4738-d355-344db4d140b6"
      },
      "execution_count": null,
      "outputs": [
        {
          "output_type": "stream",
          "name": "stdout",
          "text": [
            "Seek Your Contact<|obj|>Travel to Nar Shaddaa<|text|>You have been contacted by a Data Corp representative who has information that can help you defeat Darth Jadus. The representative, in order to gain access to the data center, has asked you to steal a data spike the representative is using to trap Darth Jadus. Destroy the data spike in the Data Corp outside the Data Corp Mobilization Center.<|endoftext|>\n",
            "<|startoftext|>Crystal Ball<|obj|>Infiltrate the First Meeting<|text|>A representative from the First Disciple, a powerful warrior cult that stands between the forces of Darth Jadus and the Jedi of old, has decided to sneak a meeting with the leaders of the first to come. The representative, in a bid to hide his identity, has enlisted your help. Place the acoustic disruptors around the arena to drown out the First Disciple.<|endoftext|>\n",
            "<|startoftext|>First to Disciples<|obj|>Infiltrate the Temple of Corruption<|text|>The meeting with the Jedi will continue in the Fallenspire Stronghold inside the Forge. Diurnal reports indicate that the temblores at the Forge have decided to bring in Jedi stealth troops to protect their generators. You mustn’t let that happen. Head to the Fallenspire Stronghold inside the Forge and disable the Jedi’s stealth droids to ensure that the generators cannot stand the heat.<|endoftext|>\n",
            "<|startoftext|>Friends of the Republic<|obj|>Speak with Senator Evran<|text|>A Senator Evran has an important mission for you on Nar Shaddaa. Meet with you bureaus in the Senate tower.<|endoftext|>\n",
            "<|startoftext|>Bug Hunt<|obj|>Speak with Gearbox Inc.<|text|>You met Dor Ragnan, the head of gaming operations at DICE. He suggested you go into the gaming district and get into some serious tights. He’s provided you with the codes to the security terminals to unlock the secured consoles. Go into the gaming district and get into some serious tights.<|endoftext|>\n",
            "<|startoftext|>Bugged-Out<|obj|>Revert Warden Droids<|text|>You’ve been instructed to reverse engineer the security droids in the warden posts to make sure the bugs haven’t caused any injuries to anyone else. Turn in the Warden Droids data spike at the drop box in the Maximum Security Section.<|endoftext|>\n",
            "<|startoftext|>Bust Up Skelton<|obj|>Defeat Warden Slaughter<|text|>Warden Slaughter<|endoftext|>\n",
            "<|startoftext|>Clean Up the Cell Block<|obj|>Kill K’lor’slug Forces<|text|>While activating the baradium detonator in the Fallenspire Stronghold, you were attacked by k’lor’slugs. Defeat the k’lor’slug aggression as you locate the chamber leading to the chamber of the k’lor’slug’s foul-mouthed benefactor.<|endoftext|>\n",
            "<|startoftext|>Clean Up the TRANPCOT<|obj|>Defeat Killik Forces<|text|>As you destroy the k’lor’slug tunnels, take out any Killiks that stand in your way.<|endoftext|>\n",
            "<|startoftext|>Cleaning up the Mess<|obj|>Plant a Mouse Droid on the Killik Hive<|text|>You have been tasked with wiping out the Killiks that have infested the area. As you hunt down the bugs, place a mouse droid on the Killik Hive tank to bring their numbers down a notch. Plant a mouse droid on the Killik Hive tank to bring its defense down a notch. Next, defeat Killik forces inside the Ruur Killik Burrows.<|endoftext|>\n",
            "<|startoftext|>Clear Out the Pipes<|obj|>Kill Killik Forces<|text|>You have been tasked with wiping out the Killiks that have infested the area. As you hunt down the bugs, place a mouse droid on the Killik Hive tank to bring their numbers down a notch. Eliminate Killik forces inside the Ruur Killik Burrows.<|endoftext|>\n",
            "<|startoftext|>Clearing the Council Chamber<|obj|>Defeat Imperial Forces<|text|>Imperial forces have fortified their position inside the Jedi Temple. Gain extra access to the Jedi Council by defeating\n"
          ]
        }
      ]
    },
    {
      "cell_type": "code",
      "source": [
        "gpt2.generate(sess3,\n",
        "              run_name='run3',\n",
        "              length=250, #number of tokens to generate\n",
        "              temperature=0.7,#level of text unpredictability\n",
        "              prefix=\"<|startoftext|>The Frozen War<|obj|>Talk to the wampas on Hoth.<|text|>\", #prefix to generate text off of\n",
        "              truncate=\"<|endoftext|>\", #truncate input text when encountering this sequence\n",
        "              nsamples=5, #number of output text samples to show\n",
        "              batch_size=5,\n",
        "              include_prefix=False, #hides prefix in output sample text\n",
        "              )"
      ],
      "metadata": {
        "colab": {
          "base_uri": "https://localhost:8080/"
        },
        "id": "BmfsFmxePccf",
        "outputId": "f2641046-1add-4504-b651-49e3d4c4865a"
      },
      "execution_count": null,
      "outputs": [
        {
          "output_type": "stream",
          "name": "stdout",
          "text": [
            "You have been tasked with recovering data spikes from an SIS agent lost to a local Killik hive. As you make your way to the hive, you’ll need to thin the Killiks’ numbers. Use the hive’s heat exchanger to heat the Killiks inside the Ruur Killik Burrows.\n",
            "====================\n",
            "You have been tasked with retrieving technological advances from the Sith and turning the warlord into a machine-warlord. As you search for the technology, Peblak Or has informed you that the White Maw pirates are using advanced mining equipment to mine the rakghouls.\n",
            "====================\n",
            "You have joined Darth Gravus’s campaign to crush the Republic’s reconstruction of Taris. After defeating their guerrilla commander and ending Republic attempts to control the rakghouls, Darth Gravus needs you to break a stalemate against an army of entrenched Imperial soldiers and a resistance force of Elonian settlers. To aid the assault against the Imperial forces, collect thermite cryo containers from wampas in the Western Clabburn Tundra and freeze any Imperial soldiers in cryo storage.\n",
            "====================\n",
            "You have been tasked with retrieving the lost war records of fallen Republic soldiers from the hands of a Voss commando. As you search for the war records, point them to Zalia Fain, who has grown increasingly hostile towards Republic soldiers over the years. You agreed to free Zalia’s memory by cutting her off at the commando camp. Head to the commando camp and kill her harrumphs.\n",
            "====================\n",
            "You have been tasked with retrieving forbidden items from the war ruins. As you search for the items, wipe the memory of the war crimes committed against the Republic troops and the Sith acolyteen in the War Ravaged areas.\n",
            "====================\n"
          ]
        }
      ]
    },
    {
      "cell_type": "code",
      "source": [],
      "metadata": {
        "id": "mGARsE7MZAAC"
      },
      "execution_count": null,
      "outputs": []
    }
  ]
}